{
  "nbformat": 4,
  "nbformat_minor": 0,
  "metadata": {
    "colab": {
      "provenance": []
    },
    "kernelspec": {
      "name": "python3",
      "display_name": "Python 3"
    },
    "language_info": {
      "name": "python"
    }
  },
  "cells": [
    {
      "cell_type": "markdown",
      "source": [
        "# Variables\n",
        "#### Variables are containers that store data in a Python program.\n",
        "#### Variables can store different types of data types such as string, integer, float, boolean."
      ],
      "metadata": {
        "id": "B5yBle2ON1hT"
      }
    },
    {
      "cell_type": "code",
      "execution_count": 1,
      "metadata": {
        "id": "lfMCrxCkER8X"
      },
      "outputs": [],
      "source": [
        "# creating a string variable\n",
        "can = 'soda'"
      ]
    },
    {
      "cell_type": "code",
      "source": [
        "can"
      ],
      "metadata": {
        "colab": {
          "base_uri": "https://localhost:8080/",
          "height": 35
        },
        "id": "9nv8SBY3FgNF",
        "outputId": "a3e975f2-a30e-491f-8b93-7b70f5d493be"
      },
      "execution_count": 2,
      "outputs": [
        {
          "output_type": "execute_result",
          "data": {
            "text/plain": [
              "'soda'"
            ],
            "application/vnd.google.colaboratory.intrinsic+json": {
              "type": "string"
            }
          },
          "metadata": {},
          "execution_count": 2
        }
      ]
    },
    {
      "cell_type": "code",
      "source": [
        "# changing the value of the variable\n",
        "can = 'beans'"
      ],
      "metadata": {
        "id": "sCkwYvteFh4X"
      },
      "execution_count": 3,
      "outputs": []
    },
    {
      "cell_type": "code",
      "source": [
        "can"
      ],
      "metadata": {
        "colab": {
          "base_uri": "https://localhost:8080/",
          "height": 35
        },
        "id": "HulSnGZwFl9x",
        "outputId": "c69bf038-a608-4651-8077-ef36d5c03c4e"
      },
      "execution_count": 4,
      "outputs": [
        {
          "output_type": "execute_result",
          "data": {
            "text/plain": [
              "'beans'"
            ],
            "application/vnd.google.colaboratory.intrinsic+json": {
              "type": "string"
            }
          },
          "metadata": {},
          "execution_count": 4
        }
      ]
    },
    {
      "cell_type": "code",
      "source": [
        "print(can)"
      ],
      "metadata": {
        "colab": {
          "base_uri": "https://localhost:8080/"
        },
        "id": "hC3GamUSFmir",
        "outputId": "60e405b8-560e-46a7-c8e9-26701ce8644e"
      },
      "execution_count": 5,
      "outputs": [
        {
          "output_type": "stream",
          "name": "stdout",
          "text": [
            "beans\n"
          ]
        }
      ]
    },
    {
      "cell_type": "code",
      "source": [
        "# data type\n",
        "type(can)"
      ],
      "metadata": {
        "colab": {
          "base_uri": "https://localhost:8080/"
        },
        "id": "duY0r-bGFoud",
        "outputId": "56f1beb5-91c0-4501-fb21-8a584d3d3e25"
      },
      "execution_count": 6,
      "outputs": [
        {
          "output_type": "execute_result",
          "data": {
            "text/plain": [
              "str"
            ]
          },
          "metadata": {},
          "execution_count": 6
        }
      ]
    },
    {
      "cell_type": "code",
      "source": [
        "# creating an integer variable (price)\n",
        "pizza = 100\n",
        "pizza"
      ],
      "metadata": {
        "colab": {
          "base_uri": "https://localhost:8080/"
        },
        "id": "cQYMdGUnFvXZ",
        "outputId": "690e2642-adf3-4a7e-cf01-9bd7ab5ec5df"
      },
      "execution_count": 7,
      "outputs": [
        {
          "output_type": "execute_result",
          "data": {
            "text/plain": [
              "100"
            ]
          },
          "metadata": {},
          "execution_count": 7
        }
      ]
    },
    {
      "cell_type": "code",
      "source": [
        "# creating a float variable (price)\n",
        "samosa = 20.5\n",
        "ice_cream = 100"
      ],
      "metadata": {
        "id": "pq_DEcAiHN2P"
      },
      "execution_count": 8,
      "outputs": []
    },
    {
      "cell_type": "code",
      "source": [
        "# making addition\n",
        "total = pizza + samosa + ice_cream\n",
        "total"
      ],
      "metadata": {
        "colab": {
          "base_uri": "https://localhost:8080/"
        },
        "id": "l6pC908OHq_h",
        "outputId": "3bafad7c-a29c-4189-ca07-a7a962e2dd9f"
      },
      "execution_count": 9,
      "outputs": [
        {
          "output_type": "execute_result",
          "data": {
            "text/plain": [
              "220.5"
            ]
          },
          "metadata": {},
          "execution_count": 9
        }
      ]
    },
    {
      "cell_type": "code",
      "source": [
        "# data type\n",
        "type(total)"
      ],
      "metadata": {
        "colab": {
          "base_uri": "https://localhost:8080/"
        },
        "id": "wGNSykSLHyHT",
        "outputId": "8424aa0c-2ebb-4e20-eb04-0b59c71bd97d"
      },
      "execution_count": 10,
      "outputs": [
        {
          "output_type": "execute_result",
          "data": {
            "text/plain": [
              "float"
            ]
          },
          "metadata": {},
          "execution_count": 10
        }
      ]
    },
    {
      "cell_type": "code",
      "source": [
        "# creating boolean value\n",
        "above_thresold = total > 200\n",
        "above_thresold"
      ],
      "metadata": {
        "colab": {
          "base_uri": "https://localhost:8080/"
        },
        "id": "MCSj_GJzIDzZ",
        "outputId": "047b370c-101e-4daa-a5be-42b3c1f9ffe3"
      },
      "execution_count": 11,
      "outputs": [
        {
          "output_type": "execute_result",
          "data": {
            "text/plain": [
              "True"
            ]
          },
          "metadata": {},
          "execution_count": 11
        }
      ]
    },
    {
      "cell_type": "code",
      "source": [
        "# same variable data type can be changed directly\n",
        "can = 'beans'\n",
        "print(type(can))\n",
        "\n",
        "can = 6.7\n",
        "print(type(can))"
      ],
      "metadata": {
        "colab": {
          "base_uri": "https://localhost:8080/"
        },
        "id": "PF264dX-I3jC",
        "outputId": "efc8512b-fc5b-4bc3-e5fa-3ee36798c104"
      },
      "execution_count": 12,
      "outputs": [
        {
          "output_type": "stream",
          "name": "stdout",
          "text": [
            "<class 'str'>\n",
            "<class 'float'>\n"
          ]
        }
      ]
    },
    {
      "cell_type": "code",
      "source": [
        "# if the value of multiple variables are same, their id value will be same\n",
        "foo = 'jalebi'\n",
        "bar = foo\n",
        "\n",
        "print(id(foo))\n",
        "print(id(bar))"
      ],
      "metadata": {
        "colab": {
          "base_uri": "https://localhost:8080/"
        },
        "id": "M-o5Ip2BK3Ef",
        "outputId": "b84c9dbd-634c-45df-c44c-d8c0fc4c0be0"
      },
      "execution_count": 13,
      "outputs": [
        {
          "output_type": "stream",
          "name": "stdout",
          "text": [
            "134709588184048\n",
            "134709588184048\n"
          ]
        }
      ]
    },
    {
      "cell_type": "markdown",
      "source": [
        "#### **Reserved keywords** and **Special Characters** cannot be used as variable name."
      ],
      "metadata": {
        "id": "YVyZsWedWDXt"
      }
    },
    {
      "cell_type": "markdown",
      "source": [
        "# Numbers"
      ],
      "metadata": {
        "id": "5fHGrqpAtdfK"
      }
    },
    {
      "cell_type": "code",
      "source": [
        "# Calculating area of a triangle\n",
        "base = 10\n",
        "height = 7\n",
        "\n",
        "area = (base * height) / 2\n",
        "area"
      ],
      "metadata": {
        "colab": {
          "base_uri": "https://localhost:8080/"
        },
        "id": "gYnTtD8vRVxZ",
        "outputId": "452673b3-5841-4e0f-a97b-458c7f46b84c"
      },
      "execution_count": 14,
      "outputs": [
        {
          "output_type": "execute_result",
          "data": {
            "text/plain": [
              "35.0"
            ]
          },
          "metadata": {},
          "execution_count": 14
        }
      ]
    },
    {
      "cell_type": "code",
      "source": [
        "# Data type\n",
        "type(area)"
      ],
      "metadata": {
        "colab": {
          "base_uri": "https://localhost:8080/"
        },
        "id": "gKa8o54rtytp",
        "outputId": "b007d156-4310-48e8-96c1-1eb4ffded6c1"
      },
      "execution_count": 15,
      "outputs": [
        {
          "output_type": "execute_result",
          "data": {
            "text/plain": [
              "float"
            ]
          },
          "metadata": {},
          "execution_count": 15
        }
      ]
    },
    {
      "cell_type": "code",
      "source": [
        "x = 10\n",
        "y = 3\n",
        "\n",
        "# Floor division\n",
        "print(x//y)\n",
        "\n",
        "# Modulus operator\n",
        "print(x%y)"
      ],
      "metadata": {
        "colab": {
          "base_uri": "https://localhost:8080/"
        },
        "id": "3xcLesPBt9Q1",
        "outputId": "806c0c0f-e2da-4f18-8948-8381081619ef"
      },
      "execution_count": 16,
      "outputs": [
        {
          "output_type": "stream",
          "name": "stdout",
          "text": [
            "3\n",
            "1\n"
          ]
        }
      ]
    },
    {
      "cell_type": "code",
      "source": [
        "# Exponentiation\n",
        "x**y"
      ],
      "metadata": {
        "colab": {
          "base_uri": "https://localhost:8080/"
        },
        "id": "583imonBw6By",
        "outputId": "1e678dac-73a7-4dfc-c7e1-6982c1854093"
      },
      "execution_count": 17,
      "outputs": [
        {
          "output_type": "execute_result",
          "data": {
            "text/plain": [
              "1000"
            ]
          },
          "metadata": {},
          "execution_count": 17
        }
      ]
    },
    {
      "cell_type": "code",
      "source": [
        "# e means \"10 to the power\"\n",
        "2.5e4"
      ],
      "metadata": {
        "colab": {
          "base_uri": "https://localhost:8080/"
        },
        "id": "1oNc0yPby_5f",
        "outputId": "ba9804db-c2ee-41a2-a966-d24fb7b2c752"
      },
      "execution_count": 18,
      "outputs": [
        {
          "output_type": "execute_result",
          "data": {
            "text/plain": [
              "25000.0"
            ]
          },
          "metadata": {},
          "execution_count": 18
        }
      ]
    },
    {
      "cell_type": "code",
      "source": [
        "2.5e-3"
      ],
      "metadata": {
        "colab": {
          "base_uri": "https://localhost:8080/"
        },
        "id": "fHJiNo7ezxdy",
        "outputId": "c87a2c96-7509-4735-dd8c-f6089d418a73"
      },
      "execution_count": 19,
      "outputs": [
        {
          "output_type": "execute_result",
          "data": {
            "text/plain": [
              "0.0025"
            ]
          },
          "metadata": {},
          "execution_count": 19
        }
      ]
    },
    {
      "cell_type": "code",
      "source": [
        "# round() will give the whole number\n",
        "food = 120.34\n",
        "rent = 500.4\n",
        "utilities = 200.5\n",
        "\n",
        "total = food + rent + utilities\n",
        "print(round(total))"
      ],
      "metadata": {
        "colab": {
          "base_uri": "https://localhost:8080/"
        },
        "id": "J89ljtEa3Der",
        "outputId": "d1f63553-0720-46ba-f3d6-acd44fcf830e"
      },
      "execution_count": 20,
      "outputs": [
        {
          "output_type": "stream",
          "name": "stdout",
          "text": [
            "821\n"
          ]
        }
      ]
    },
    {
      "cell_type": "code",
      "source": [
        "# custom data point of round() function\n",
        "round(total, 2)"
      ],
      "metadata": {
        "colab": {
          "base_uri": "https://localhost:8080/"
        },
        "id": "qeyYt25S31eR",
        "outputId": "13e838a7-7132-4b90-9691-07febab53059"
      },
      "execution_count": 21,
      "outputs": [
        {
          "output_type": "execute_result",
          "data": {
            "text/plain": [
              "821.24"
            ]
          },
          "metadata": {},
          "execution_count": 21
        }
      ]
    },
    {
      "cell_type": "code",
      "source": [
        "# string variables\n",
        "food = 120.34\n",
        "rent = 500.67\n",
        "\n",
        "# converting strings to floats\n",
        "total = float(food) + float(rent)\n",
        "total"
      ],
      "metadata": {
        "colab": {
          "base_uri": "https://localhost:8080/"
        },
        "id": "cRFTdQsu4wkg",
        "outputId": "b0915161-e53a-4ed7-d5c8-df28937e72ea"
      },
      "execution_count": 22,
      "outputs": [
        {
          "output_type": "execute_result",
          "data": {
            "text/plain": [
              "621.01"
            ]
          },
          "metadata": {},
          "execution_count": 22
        }
      ]
    },
    {
      "cell_type": "code",
      "source": [
        "import math\n",
        "\n",
        "x = 16\n",
        "math.sqrt(x) # square root"
      ],
      "metadata": {
        "colab": {
          "base_uri": "https://localhost:8080/"
        },
        "id": "Yb58NwF_5hrO",
        "outputId": "6b431369-f5ba-4a7e-dd55-dd1775af4e94"
      },
      "execution_count": 23,
      "outputs": [
        {
          "output_type": "execute_result",
          "data": {
            "text/plain": [
              "4.0"
            ]
          },
          "metadata": {},
          "execution_count": 23
        }
      ]
    },
    {
      "cell_type": "code",
      "source": [
        "math.floor(3.7) # floor value"
      ],
      "metadata": {
        "colab": {
          "base_uri": "https://localhost:8080/"
        },
        "id": "wcGqNNd_6FrB",
        "outputId": "3dacbebf-76c7-4bf4-aadf-d67f33b1e1bb"
      },
      "execution_count": 24,
      "outputs": [
        {
          "output_type": "execute_result",
          "data": {
            "text/plain": [
              "3"
            ]
          },
          "metadata": {},
          "execution_count": 24
        }
      ]
    },
    {
      "cell_type": "code",
      "source": [
        "math.ceil(3.7) # ceiling value"
      ],
      "metadata": {
        "colab": {
          "base_uri": "https://localhost:8080/"
        },
        "id": "gOwizNce6KP1",
        "outputId": "ea62bb31-4ea3-4503-af42-ca53ea658eff"
      },
      "execution_count": 25,
      "outputs": [
        {
          "output_type": "execute_result",
          "data": {
            "text/plain": [
              "4"
            ]
          },
          "metadata": {},
          "execution_count": 25
        }
      ]
    },
    {
      "cell_type": "code",
      "source": [
        "math.pi # pi value"
      ],
      "metadata": {
        "colab": {
          "base_uri": "https://localhost:8080/"
        },
        "id": "g7ajdcP26W-G",
        "outputId": "b5cfec20-74e9-486e-94e6-74bd41543a33"
      },
      "execution_count": 26,
      "outputs": [
        {
          "output_type": "execute_result",
          "data": {
            "text/plain": [
              "3.141592653589793"
            ]
          },
          "metadata": {},
          "execution_count": 26
        }
      ]
    },
    {
      "cell_type": "code",
      "source": [
        "format(5, 'b') # binary representation of the number"
      ],
      "metadata": {
        "colab": {
          "base_uri": "https://localhost:8080/",
          "height": 35
        },
        "id": "jhs7JEjN6cxN",
        "outputId": "550f69b9-7909-4675-a431-0de8e4e12000"
      },
      "execution_count": 27,
      "outputs": [
        {
          "output_type": "execute_result",
          "data": {
            "text/plain": [
              "'101'"
            ],
            "application/vnd.google.colaboratory.intrinsic+json": {
              "type": "string"
            }
          },
          "metadata": {},
          "execution_count": 27
        }
      ]
    },
    {
      "cell_type": "markdown",
      "source": [
        "# Strings\n",
        "\n",
        "#### In Python, strings are immutable, meaning they cannot be changed once created."
      ],
      "metadata": {
        "id": "Z3uARzcl7cgT"
      }
    },
    {
      "cell_type": "code",
      "source": [
        "first = 'Sk Golam'\n",
        "last = 'Mahmud'\n",
        "\n",
        "name = first + ' ' + last\n",
        "name"
      ],
      "metadata": {
        "colab": {
          "base_uri": "https://localhost:8080/",
          "height": 35
        },
        "id": "Cu7PK9FZ621E",
        "outputId": "6fb93166-d691-4dbe-d9cc-4c4e23929566"
      },
      "execution_count": 28,
      "outputs": [
        {
          "output_type": "execute_result",
          "data": {
            "text/plain": [
              "'Sk Golam Mahmud'"
            ],
            "application/vnd.google.colaboratory.intrinsic+json": {
              "type": "string"
            }
          },
          "metadata": {},
          "execution_count": 28
        }
      ]
    },
    {
      "cell_type": "code",
      "source": [
        "name = f\"{first} {last}\"\n",
        "name"
      ],
      "metadata": {
        "colab": {
          "base_uri": "https://localhost:8080/",
          "height": 35
        },
        "id": "pKdAscqe8Cec",
        "outputId": "fc6ca224-ffe2-4180-ef40-2f9f94696ee6"
      },
      "execution_count": 29,
      "outputs": [
        {
          "output_type": "execute_result",
          "data": {
            "text/plain": [
              "'Sk Golam Mahmud'"
            ],
            "application/vnd.google.colaboratory.intrinsic+json": {
              "type": "string"
            }
          },
          "metadata": {},
          "execution_count": 29
        }
      ]
    },
    {
      "cell_type": "code",
      "source": [
        "age = 28\n",
        "info = f\"{first} {last} is {age} years old\"\n",
        "info"
      ],
      "metadata": {
        "colab": {
          "base_uri": "https://localhost:8080/",
          "height": 35
        },
        "id": "wkGgNWLF8WTE",
        "outputId": "db183482-f4de-49a6-e532-e055d7de4d15"
      },
      "execution_count": 30,
      "outputs": [
        {
          "output_type": "execute_result",
          "data": {
            "text/plain": [
              "'Sk Golam Mahmud is 28 years old'"
            ],
            "application/vnd.google.colaboratory.intrinsic+json": {
              "type": "string"
            }
          },
          "metadata": {},
          "execution_count": 30
        }
      ]
    },
    {
      "cell_type": "code",
      "source": [
        "# specific letter or words can be generated from string\n",
        "print(name[0])\n",
        "print(name[0:8])"
      ],
      "metadata": {
        "colab": {
          "base_uri": "https://localhost:8080/"
        },
        "id": "3IpkCCJH9GW2",
        "outputId": "51547e53-9562-4405-bcfc-451cc9730833"
      },
      "execution_count": 31,
      "outputs": [
        {
          "output_type": "stream",
          "name": "stdout",
          "text": [
            "S\n",
            "Sk Golam\n"
          ]
        }
      ]
    },
    {
      "cell_type": "code",
      "source": [
        "# triple quote for multiple lines\n",
        "recipe = '''\n",
        "Veg biryani with\n",
        "saffron, cardamom, and cloves,\n",
        "garnished with fried onions and cilantro.\n",
        "'''\n",
        "\n",
        "print(recipe)"
      ],
      "metadata": {
        "colab": {
          "base_uri": "https://localhost:8080/"
        },
        "id": "GBzjd6Rz92FV",
        "outputId": "87d234f4-eee8-4439-e531-cfb36f25ab26"
      },
      "execution_count": 32,
      "outputs": [
        {
          "output_type": "stream",
          "name": "stdout",
          "text": [
            "\n",
            "Veg biryani with \n",
            "saffron, cardamom, and cloves, \n",
            "garnished with fried onions and cilantro.\n",
            "\n"
          ]
        }
      ]
    },
    {
      "cell_type": "code",
      "source": [
        "# finding specific word in recipe\n",
        "spice = \"cardamom\"\n",
        "spice in recipe"
      ],
      "metadata": {
        "colab": {
          "base_uri": "https://localhost:8080/"
        },
        "id": "mzvmhcoarfhc",
        "outputId": "73025893-3ab6-4e71-a022-e2584b7e0992"
      },
      "execution_count": 33,
      "outputs": [
        {
          "output_type": "execute_result",
          "data": {
            "text/plain": [
              "True"
            ]
          },
          "metadata": {},
          "execution_count": 33
        }
      ]
    },
    {
      "cell_type": "code",
      "source": [
        "\"milk\" in recipe"
      ],
      "metadata": {
        "colab": {
          "base_uri": "https://localhost:8080/"
        },
        "id": "zYkwxU44Fx4Y",
        "outputId": "6b8b1ad1-5817-49b0-88ac-61fb4b42fa46"
      },
      "execution_count": 34,
      "outputs": [
        {
          "output_type": "execute_result",
          "data": {
            "text/plain": [
              "False"
            ]
          },
          "metadata": {},
          "execution_count": 34
        }
      ]
    },
    {
      "cell_type": "code",
      "source": [
        "# in order to find a specific word's index\n",
        "recipe.find(\"cardamom\")"
      ],
      "metadata": {
        "colab": {
          "base_uri": "https://localhost:8080/"
        },
        "id": "3QI9a1l5F4IB",
        "outputId": "92e4c648-59e9-4445-f732-06cf1af1d518"
      },
      "execution_count": 35,
      "outputs": [
        {
          "output_type": "execute_result",
          "data": {
            "text/plain": [
              "28"
            ]
          },
          "metadata": {},
          "execution_count": 35
        }
      ]
    },
    {
      "cell_type": "code",
      "source": [
        "recipe.index(\"cardamom\")"
      ],
      "metadata": {
        "colab": {
          "base_uri": "https://localhost:8080/"
        },
        "id": "TsdFtphwTFRa",
        "outputId": "faa99764-a230-4155-aaf3-c024a6331652"
      },
      "execution_count": 36,
      "outputs": [
        {
          "output_type": "execute_result",
          "data": {
            "text/plain": [
              "28"
            ]
          },
          "metadata": {},
          "execution_count": 36
        }
      ]
    },
    {
      "cell_type": "code",
      "source": [
        "# replace\n",
        "s = \"Patient was charged 100$ for lab test\"\n",
        "s"
      ],
      "metadata": {
        "colab": {
          "base_uri": "https://localhost:8080/",
          "height": 35
        },
        "id": "bxiceTlrGFLc",
        "outputId": "e887085c-5335-4540-a141-edde253f2ba9"
      },
      "execution_count": 37,
      "outputs": [
        {
          "output_type": "execute_result",
          "data": {
            "text/plain": [
              "'Patient was charged 100$ for lab test'"
            ],
            "application/vnd.google.colaboratory.intrinsic+json": {
              "type": "string"
            }
          },
          "metadata": {},
          "execution_count": 37
        }
      ]
    },
    {
      "cell_type": "code",
      "source": [
        "s = s.replace(\"100$\", \"10$\")\n",
        "s"
      ],
      "metadata": {
        "colab": {
          "base_uri": "https://localhost:8080/",
          "height": 35
        },
        "id": "MqmDKTI2Gp5C",
        "outputId": "063115a9-e2c8-406e-b596-f6ef09d91c5c"
      },
      "execution_count": 38,
      "outputs": [
        {
          "output_type": "execute_result",
          "data": {
            "text/plain": [
              "'Patient was charged 10$ for lab test'"
            ],
            "application/vnd.google.colaboratory.intrinsic+json": {
              "type": "string"
            }
          },
          "metadata": {},
          "execution_count": 38
        }
      ]
    },
    {
      "cell_type": "code",
      "source": [
        "s.upper()"
      ],
      "metadata": {
        "colab": {
          "base_uri": "https://localhost:8080/",
          "height": 35
        },
        "id": "0JihpOOJGxX-",
        "outputId": "88ce33a7-7a71-44c7-ee6b-da8f9945fd15"
      },
      "execution_count": 39,
      "outputs": [
        {
          "output_type": "execute_result",
          "data": {
            "text/plain": [
              "'PATIENT WAS CHARGED 10$ FOR LAB TEST'"
            ],
            "application/vnd.google.colaboratory.intrinsic+json": {
              "type": "string"
            }
          },
          "metadata": {},
          "execution_count": 39
        }
      ]
    },
    {
      "cell_type": "code",
      "source": [
        "s.lower()"
      ],
      "metadata": {
        "colab": {
          "base_uri": "https://localhost:8080/",
          "height": 35
        },
        "id": "OL6mtQYAHVKf",
        "outputId": "9ffa9d89-b32b-4100-aada-96b17d6cc285"
      },
      "execution_count": 40,
      "outputs": [
        {
          "output_type": "execute_result",
          "data": {
            "text/plain": [
              "'patient was charged 10$ for lab test'"
            ],
            "application/vnd.google.colaboratory.intrinsic+json": {
              "type": "string"
            }
          },
          "metadata": {},
          "execution_count": 40
        }
      ]
    },
    {
      "cell_type": "code",
      "source": [
        "# in order to find numeric value\n",
        "\"10w\".isdigit()"
      ],
      "metadata": {
        "colab": {
          "base_uri": "https://localhost:8080/"
        },
        "id": "1DxaSzgmHWyD",
        "outputId": "2b97ea4c-6ae2-4156-a6d5-6c3b8fad92fe"
      },
      "execution_count": 41,
      "outputs": [
        {
          "output_type": "execute_result",
          "data": {
            "text/plain": [
              "False"
            ]
          },
          "metadata": {},
          "execution_count": 41
        }
      ]
    },
    {
      "cell_type": "code",
      "source": [
        "# Joining integer as string\n",
        "text = \"My age is: \"\n",
        "age = 27\n",
        "\n",
        "text + str(age)"
      ],
      "metadata": {
        "colab": {
          "base_uri": "https://localhost:8080/",
          "height": 35
        },
        "id": "he-F4IBYSMKu",
        "outputId": "5bf556cc-0b16-41ac-bdba-2f55eeaec247"
      },
      "execution_count": 42,
      "outputs": [
        {
          "output_type": "execute_result",
          "data": {
            "text/plain": [
              "'My age is: 27'"
            ],
            "application/vnd.google.colaboratory.intrinsic+json": {
              "type": "string"
            }
          },
          "metadata": {},
          "execution_count": 42
        }
      ]
    },
    {
      "cell_type": "code",
      "source": [
        "# split\n",
        "tickers = \"AAPL|NVDA|RIL|GOGL\"\n",
        "tickers.split(\"|\")"
      ],
      "metadata": {
        "colab": {
          "base_uri": "https://localhost:8080/"
        },
        "id": "FfHeyDCeT0tI",
        "outputId": "86acaa51-5e94-464b-91ef-cc21355d5d60"
      },
      "execution_count": 43,
      "outputs": [
        {
          "output_type": "execute_result",
          "data": {
            "text/plain": [
              "['AAPL', 'NVDA', 'RIL', 'GOGL']"
            ]
          },
          "metadata": {},
          "execution_count": 43
        }
      ]
    },
    {
      "cell_type": "code",
      "source": [
        "# strip\n",
        "data = \"    Hi, How are you?    \"\n",
        "data.strip()"
      ],
      "metadata": {
        "colab": {
          "base_uri": "https://localhost:8080/",
          "height": 35
        },
        "id": "i3vOr5vlUH-I",
        "outputId": "52844d69-144c-4af1-892b-4c4ba5f479ab"
      },
      "execution_count": 44,
      "outputs": [
        {
          "output_type": "execute_result",
          "data": {
            "text/plain": [
              "'Hi, How are you?'"
            ],
            "application/vnd.google.colaboratory.intrinsic+json": {
              "type": "string"
            }
          },
          "metadata": {},
          "execution_count": 44
        }
      ]
    },
    {
      "cell_type": "code",
      "source": [
        "# detecting specific file\n",
        "file_name = \"report.pdf\"\n",
        "file_name.endswith(\".pdf\")"
      ],
      "metadata": {
        "colab": {
          "base_uri": "https://localhost:8080/"
        },
        "id": "Tki3L4bWUzwW",
        "outputId": "5a18746c-7098-4bad-f241-21c6a53eb43e"
      },
      "execution_count": 45,
      "outputs": [
        {
          "output_type": "execute_result",
          "data": {
            "text/plain": [
              "True"
            ]
          },
          "metadata": {},
          "execution_count": 45
        }
      ]
    },
    {
      "cell_type": "markdown",
      "source": [
        "# Exercise"
      ],
      "metadata": {
        "id": "FbzoFxWhbHeV"
      }
    },
    {
      "cell_type": "markdown",
      "source": [
        "### Task 1\n",
        "\n",
        "Create a variable named pi and store the value 22/7 in it. Now check the data type of this variable."
      ],
      "metadata": {
        "id": "dodNx7CWbS38"
      }
    },
    {
      "cell_type": "code",
      "source": [
        "pi = 22/7\n",
        "type(pi)"
      ],
      "metadata": {
        "colab": {
          "base_uri": "https://localhost:8080/"
        },
        "id": "mLaU41R1VO_-",
        "outputId": "ea8392fc-014b-4d40-e442-5e1755a5a029"
      },
      "execution_count": 46,
      "outputs": [
        {
          "output_type": "execute_result",
          "data": {
            "text/plain": [
              "float"
            ]
          },
          "metadata": {},
          "execution_count": 46
        }
      ]
    },
    {
      "cell_type": "markdown",
      "source": [
        "### Task 2\n",
        "\n",
        "Create a variable called ```for``` and assign it a value 4. See what happens and find out the reason behind the behavior that you see."
      ],
      "metadata": {
        "id": "oMuUkrl3be5T"
      }
    },
    {
      "cell_type": "code",
      "source": [
        "# reserved keywords cannot be used"
      ],
      "metadata": {
        "id": "iVWE8OBgbZaO"
      },
      "execution_count": 47,
      "outputs": []
    },
    {
      "cell_type": "markdown",
      "source": [
        "### Task 3\n",
        "\n",
        "Below we have defined the variables for storing the principal amount, rate of interest and time. You need to calculate the simple interest for 3 years. Once simple interest is calculated, calculate the total amount you will have at the end of the tenure"
      ],
      "metadata": {
        "id": "q6ggoyDIbtj9"
      }
    },
    {
      "cell_type": "code",
      "source": [
        "principle_amount = 567.00\n",
        "rate_of_interest = 5.6\n",
        "time = 3"
      ],
      "metadata": {
        "id": "zqvUAgbwbsdy"
      },
      "execution_count": 48,
      "outputs": []
    },
    {
      "cell_type": "markdown",
      "source": [
        "Now let's calculate the simple intrest using simple math formula:\n",
        "\n",
        "`simple interest  = P x R x T / 100`\n",
        "\n",
        "where:\n",
        "\n",
        "    P = principle amount\n",
        "    R = rate of interest\n",
        "    T = time"
      ],
      "metadata": {
        "id": "Y3hZEss3cEvK"
      }
    },
    {
      "cell_type": "code",
      "source": [
        "# calculate simple interest\n",
        "simple_interest = principle_amount * rate_of_interest * time / 100\n",
        "simple_interest"
      ],
      "metadata": {
        "colab": {
          "base_uri": "https://localhost:8080/"
        },
        "id": "qlhwVyhHcBAh",
        "outputId": "5436c3f1-508e-4ca1-f247-15103a175ecb"
      },
      "execution_count": 49,
      "outputs": [
        {
          "output_type": "execute_result",
          "data": {
            "text/plain": [
              "95.25599999999999"
            ]
          },
          "metadata": {},
          "execution_count": 49
        }
      ]
    },
    {
      "cell_type": "code",
      "source": [
        "# calculate total amount after including interest\n",
        "total_amount = principle_amount + simple_interest\n",
        "total_amount"
      ],
      "metadata": {
        "colab": {
          "base_uri": "https://localhost:8080/"
        },
        "id": "pYNTJdL5cTWH",
        "outputId": "145d42ff-5a14-485a-f07c-4e656c03c625"
      },
      "execution_count": 50,
      "outputs": [
        {
          "output_type": "execute_result",
          "data": {
            "text/plain": [
              "662.256"
            ]
          },
          "metadata": {},
          "execution_count": 50
        }
      ]
    },
    {
      "cell_type": "markdown",
      "source": [
        "### Task 4\n",
        "\n",
        "There is a circular pond in a village. This pond has a radius of 84 meter. Can you find the area of the pond?"
      ],
      "metadata": {
        "id": "z8Rw2aHqc_dE"
      }
    },
    {
      "cell_type": "code",
      "source": [
        "import math\n",
        "area = math.pi * 84**2\n",
        "area"
      ],
      "metadata": {
        "colab": {
          "base_uri": "https://localhost:8080/"
        },
        "id": "27iaPQAJcsVa",
        "outputId": "27adbe3a-4a5f-475b-fb37-8aa561ec43bb"
      },
      "execution_count": 51,
      "outputs": [
        {
          "output_type": "execute_result",
          "data": {
            "text/plain": [
              "22167.07776372958"
            ]
          },
          "metadata": {},
          "execution_count": 51
        }
      ]
    },
    {
      "cell_type": "markdown",
      "source": [
        "### Task 5\n",
        "\n",
        "If there is a 2000 liter water in a square meter, what is the total amount of water in this pond?\n",
        "\n",
        "**Note:** For simplicity, use the value of pi as 3.14."
      ],
      "metadata": {
        "id": "ACn6NA7hd6Gl"
      }
    },
    {
      "cell_type": "code",
      "source": [
        "total_water = area * 2000\n",
        "total_water"
      ],
      "metadata": {
        "colab": {
          "base_uri": "https://localhost:8080/"
        },
        "id": "uRsplga3dGrE",
        "outputId": "0e0ae8ea-0eea-4711-924e-30260303f63a"
      },
      "execution_count": 52,
      "outputs": [
        {
          "output_type": "execute_result",
          "data": {
            "text/plain": [
              "44334155.52745916"
            ]
          },
          "metadata": {},
          "execution_count": 52
        }
      ]
    },
    {
      "cell_type": "markdown",
      "source": [
        "### Task 6\n",
        "\n",
        "If you cross a 490-meter-long street in 7 minutes, then what is your speed in meter per seconds. Print your answer with only two decimal points\n",
        "\n",
        "Hint:\n",
        "        Speed = Distance / Time"
      ],
      "metadata": {
        "id": "cwhIp8Y9eVB6"
      }
    },
    {
      "cell_type": "code",
      "source": [
        "distance = 490\n",
        "time = 7 * 60\n",
        "\n",
        "speed = distance / time\n",
        "round(speed, 2)"
      ],
      "metadata": {
        "colab": {
          "base_uri": "https://localhost:8080/"
        },
        "id": "sr_wn3pMeBvM",
        "outputId": "3940edce-8213-4f4b-c512-9bdd0a66747f"
      },
      "execution_count": 53,
      "outputs": [
        {
          "output_type": "execute_result",
          "data": {
            "text/plain": [
              "1.17"
            ]
          },
          "metadata": {},
          "execution_count": 53
        }
      ]
    },
    {
      "cell_type": "markdown",
      "source": [
        "### Task 7\n",
        "\n",
        "Create two variables to store how many fruits and vegetables you eat in a day. The value should be numeric for example 3 fruits and 4 vegetables. Now Print \"I eat x vegetables and y fruits daily\" where x and y presents vegetables and fruits that you eat every day. Use python f string for this."
      ],
      "metadata": {
        "id": "osba1NJme3_h"
      }
    },
    {
      "cell_type": "code",
      "source": [
        "fruits = 3\n",
        "vegetables = 4\n",
        "\n",
        "print(f\"I eat {vegetables} vegetables and {fruits} fruits daily\")"
      ],
      "metadata": {
        "colab": {
          "base_uri": "https://localhost:8080/"
        },
        "id": "W8TmKhSMefbA",
        "outputId": "155a35ab-63a9-433f-b895-11ff3f5c6925"
      },
      "execution_count": 54,
      "outputs": [
        {
          "output_type": "stream",
          "name": "stdout",
          "text": [
            "I eat 4 vegetables and 3 fruits daily\n"
          ]
        }
      ]
    },
    {
      "cell_type": "markdown",
      "source": [
        "### Task 8\n",
        "\n",
        "Create a variable and store the string “The Himalayas are one of the youngest mountain range on the planet.”\n",
        "\n",
        "1. Print ‘The Himalayas’ using slice operator\n",
        "1. Print “mountain range” using negative index\n",
        "1. Print “The Himalayas on the planet” using slice as well as f-string"
      ],
      "metadata": {
        "id": "Y63UZlySfJ2q"
      }
    },
    {
      "cell_type": "code",
      "source": [
        "sentence = \"The Himalayas are one of the youngest mountain range on the planet.\"\n",
        "\n",
        "# 1. Printing 'The Himalayas' using slice\n",
        "print(sentence[0:13])\n",
        "\n",
        "# 2. Printing 'mountain range' using negative index\n",
        "print(sentence[-29:-15])\n",
        "\n",
        "# 3. Printing 'The Himalayas on the planet' using slice and f-string\n",
        "part1 = sentence[0:13]         # 'The Himalayas'\n",
        "part2 = sentence[-15:-1]       # 'on the planet'\n",
        "print(f\"{part1}{part2}\")\n"
      ],
      "metadata": {
        "colab": {
          "base_uri": "https://localhost:8080/"
        },
        "id": "DqyRaSV8fEIR",
        "outputId": "32f71764-df68-4a3c-8337-4cde6f3f0a24"
      },
      "execution_count": 55,
      "outputs": [
        {
          "output_type": "stream",
          "name": "stdout",
          "text": [
            "The Himalayas\n",
            "mountain range\n",
            "The Himalayas on the planet\n"
          ]
        }
      ]
    },
    {
      "cell_type": "markdown",
      "source": [
        "### Task 9\n",
        "\n",
        "You have created a string variable called string= ”There are 9 planets in the solar system”. After some time, you have realized that your sentence is incorrect and there are only 8 planets, now correct your sentence by replacing the incorrect words."
      ],
      "metadata": {
        "id": "Uh1aecAWgXwR"
      }
    },
    {
      "cell_type": "code",
      "source": [
        "a = \"There are 9 planets in the solar system\"\n",
        "a = a.replace(\"9\", \"8\")\n",
        "a"
      ],
      "metadata": {
        "colab": {
          "base_uri": "https://localhost:8080/",
          "height": 35
        },
        "id": "_5DoWFHhfyo1",
        "outputId": "76b5388d-b557-4b12-976f-673caf233158"
      },
      "execution_count": 56,
      "outputs": [
        {
          "output_type": "execute_result",
          "data": {
            "text/plain": [
              "'There are 8 planets in the solar system'"
            ],
            "application/vnd.google.colaboratory.intrinsic+json": {
              "type": "string"
            }
          },
          "metadata": {},
          "execution_count": 56
        }
      ]
    },
    {
      "cell_type": "markdown",
      "source": [
        "### Task 10\n",
        "\n",
        "Imagine you are a shop owner tracking sales of three products throughout the day. At the end of the day, you want to calculate the total sales from these products. Product quantity and prices are given below in the next code cell,\n",
        "\n",
        "Task: Write a program that:\n",
        "\n",
        "1. Calculates the total sales for each product.\n",
        "1. Summarizes the total sales for the day.\n",
        "1. Prints this summary in a formatted manner.\n",
        "\n",
        "Expected Output:\n",
        "\n",
        "```\n",
        "Daily Sales Summary:\n",
        "- Product 1: Sold 15 units at $20.0 each, Total: $300.0\n",
        "- Product 2: Sold 10 units at $35.0 each, Total: $350.0\n",
        "- Product 3: Sold 20 units at $12.0 each, Total: $240.0\n",
        "Total Sales for the Day: $890.0\n",
        "```"
      ],
      "metadata": {
        "id": "YxPrkOOSgzBu"
      }
    },
    {
      "cell_type": "code",
      "source": [
        "# Prices and quantities for each product\n",
        "product1_price = 20.0  # Price per unit for product 1\n",
        "product1_quantity = 15  # Quantity sold of product 1\n",
        "\n",
        "product2_price = 35.0  # Price per unit for product 2\n",
        "product2_quantity = 10  # Quantity sold of product 2\n",
        "\n",
        "product3_price = 12.0  # Price per unit for product 3\n",
        "product3_quantity = 20  # Quantity sold of product 3"
      ],
      "metadata": {
        "id": "hzNx7vl1gpq0"
      },
      "execution_count": 57,
      "outputs": []
    },
    {
      "cell_type": "code",
      "source": [
        "# 1. total sales for each product\n",
        "total_sales_product1 = product1_price * product1_quantity\n",
        "total_sales_product2 = product2_price * product2_quantity\n",
        "total_sales_product3 = product3_price * product3_quantity"
      ],
      "metadata": {
        "id": "kP59R7bjg4Up"
      },
      "execution_count": 58,
      "outputs": []
    },
    {
      "cell_type": "code",
      "source": [
        "# 2. total sales for the day\n",
        "total_sales_day = total_sales_product1 + total_sales_product2 + total_sales_product3"
      ],
      "metadata": {
        "id": "VLp62dnVhiJf"
      },
      "execution_count": 59,
      "outputs": []
    },
    {
      "cell_type": "code",
      "source": [
        "# 3. summary in a formatted manner\n",
        "print(f\"Total sales for product 1: {total_sales_product1}\")\n",
        "print(f\"Total sales for product 2: {total_sales_product2}\")\n",
        "print(f\"Total sales for product 3: {total_sales_product3}\")\n",
        "\n",
        "print(f\"Total sales for the day: {total_sales_day}\")"
      ],
      "metadata": {
        "colab": {
          "base_uri": "https://localhost:8080/"
        },
        "id": "6uT0KYLjhn1V",
        "outputId": "96610505-82d4-4847-8d15-84d75c078448"
      },
      "execution_count": 60,
      "outputs": [
        {
          "output_type": "stream",
          "name": "stdout",
          "text": [
            "Total sales for product 1: 300.0\n",
            "Total sales for product 2: 350.0\n",
            "Total sales for product 3: 240.0\n",
            "Total sales for the day: 890.0\n"
          ]
        }
      ]
    },
    {
      "cell_type": "code",
      "source": [],
      "metadata": {
        "id": "lxNUaxu7iBdZ"
      },
      "execution_count": 60,
      "outputs": []
    }
  ]
}