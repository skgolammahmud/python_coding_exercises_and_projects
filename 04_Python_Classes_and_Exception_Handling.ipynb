{
  "nbformat": 4,
  "nbformat_minor": 0,
  "metadata": {
    "colab": {
      "provenance": []
    },
    "kernelspec": {
      "name": "python3",
      "display_name": "Python 3"
    },
    "language_info": {
      "name": "python"
    }
  },
  "cells": [
    {
      "cell_type": "markdown",
      "source": [
        "# Classes and Objects"
      ],
      "metadata": {
        "id": "en505nmflXgI"
      }
    },
    {
      "cell_type": "code",
      "execution_count": 1,
      "metadata": {
        "id": "554P06V_kTkP"
      },
      "outputs": [],
      "source": [
        "import datetime\n",
        "\n",
        "def get_average_score(player):\n",
        "  return sum(player['scores'])/len(player['scores'])\n",
        "\n",
        "def get_age(player):\n",
        "  current_year = datetime.datetime.now().year\n",
        "  return current_year - player['birth_year']"
      ]
    },
    {
      "cell_type": "code",
      "source": [
        "virat = {\n",
        "  'name': 'Virat Kohli',\n",
        "  'scores': [],\n",
        "  'birth_year': 1988\n",
        "}\n",
        "\n",
        "virat['scores'].append(80)\n",
        "virat['scores'].append(100)\n",
        "virat['scores'].append(50)\n",
        "\n",
        "print(get_average_score(virat))\n",
        "print(get_age(virat))"
      ],
      "metadata": {
        "colab": {
          "base_uri": "https://localhost:8080/"
        },
        "id": "l92hjEexmqKH",
        "outputId": "d8b3a12f-2078-4f55-e1d7-827a9258ce7f"
      },
      "execution_count": 2,
      "outputs": [
        {
          "output_type": "stream",
          "name": "stdout",
          "text": [
            "76.66666666666667\n",
            "37\n"
          ]
        }
      ]
    },
    {
      "cell_type": "code",
      "source": [
        "class CricketPlayer:\n",
        "  team_size = 11\n",
        "  def __init__(self, fname, lname, birth_year, team):\n",
        "    self.first_name = fname\n",
        "    self.last_name = lname\n",
        "    self.birth_year = birth_year\n",
        "    self.team = team\n",
        "    self.scores = []\n",
        "\n",
        "  def add_score(self, score):\n",
        "    self.scores.append(score)\n",
        "\n",
        "  def get_average_score(self):\n",
        "    return sum(self.scores)/len(self.scores)\n",
        "\n",
        "  def get_age(self):\n",
        "    current_year = datetime.datetime.now().year\n",
        "    return current_year - self.birth_year\n",
        "\n",
        "virat = CricketPlayer('Virat', 'Kohli', 1988, 'India')\n",
        "virat.add_score(80)\n",
        "virat.add_score(100)\n",
        "virat.add_score(50)\n",
        "\n",
        "print(virat.first_name)\n",
        "print(virat.last_name)\n",
        "print(virat.birth_year)\n",
        "print(virat.scores)\n",
        "print(virat.get_average_score())"
      ],
      "metadata": {
        "colab": {
          "base_uri": "https://localhost:8080/"
        },
        "id": "hpv3xD56nIP2",
        "outputId": "e4fbd542-9891-4ddf-a478-c9032d07fe38"
      },
      "execution_count": 3,
      "outputs": [
        {
          "output_type": "stream",
          "name": "stdout",
          "text": [
            "Virat\n",
            "Kohli\n",
            "1988\n",
            "[80, 100, 50]\n",
            "76.66666666666667\n"
          ]
        }
      ]
    },
    {
      "cell_type": "code",
      "source": [
        "virat = CricketPlayer('Virat', 'Kohli', 1988, 'India')\n",
        "virat.add_score(80)\n",
        "virat.add_score(100)\n",
        "virat.add_score(50)\n",
        "\n",
        "david = CricketPlayer('David', 'Warner', 1987, 'Australia')\n",
        "david.add_score(30)\n",
        "david.add_score(40)\n",
        "david.add_score(50)\n",
        "\n",
        "print(david.get_average_score() < virat.get_average_score())"
      ],
      "metadata": {
        "colab": {
          "base_uri": "https://localhost:8080/"
        },
        "id": "adbmm56zo4Xp",
        "outputId": "b20c0c8d-761e-438f-d0b3-329a4a1f50f6"
      },
      "execution_count": 4,
      "outputs": [
        {
          "output_type": "stream",
          "name": "stdout",
          "text": [
            "True\n"
          ]
        }
      ]
    },
    {
      "cell_type": "markdown",
      "source": [
        "# Exception Handling\n",
        "\n",
        "#### Exception handling ensures that programs can address and recover from errors during execution without crashing."
      ],
      "metadata": {
        "id": "7B3Abo2AyJT9"
      }
    },
    {
      "cell_type": "code",
      "source": [
        "x = input(\"Enter number 1: \")\n",
        "y = input(\"Enter number 2: \")\n",
        "\n",
        "d = 0\n",
        "try:\n",
        "  d = int(x) / int(y)\n",
        "except:\n",
        "  print(\"Exception is handled\")\n",
        "\n",
        "print(\"Division is: \", d)"
      ],
      "metadata": {
        "colab": {
          "base_uri": "https://localhost:8080/"
        },
        "id": "k3JCQlV2yLo3",
        "outputId": "c053bc1e-4fdd-46f1-eac8-78ac7ca252fe"
      },
      "execution_count": 5,
      "outputs": [
        {
          "output_type": "stream",
          "name": "stdout",
          "text": [
            "Enter number 1: 5\n",
            "Enter number 2: 0\n",
            "Exception is handled\n",
            "Division is:  0\n"
          ]
        }
      ]
    },
    {
      "cell_type": "code",
      "source": [
        "x = input(\"Enter number 1: \")\n",
        "y = input(\"Enter number 2: \")\n",
        "\n",
        "d = 0\n",
        "try:\n",
        "  d = int(x) / int(y)\n",
        "  a = \"baby yoda\" + 56\n",
        "except ZeroDivisionError as ze:\n",
        "  print(\"Exception occoured: \", ze)\n",
        "  d = -1\n",
        "except TypeError as te:\n",
        "  print(\"Exception occoured: \", te)\n",
        "  d = -1\n",
        "except Exception as e:\n",
        "  print(\"Generic exception: \", e)\n",
        "\n",
        "print(\"Division is: \", d)"
      ],
      "metadata": {
        "colab": {
          "base_uri": "https://localhost:8080/"
        },
        "id": "B22imwTbyr5c",
        "outputId": "a9f32720-dc6a-4dfe-ab68-b08dd5e42cfe"
      },
      "execution_count": 6,
      "outputs": [
        {
          "output_type": "stream",
          "name": "stdout",
          "text": [
            "Enter number 1: 1\n",
            "Enter number 2: 0\n",
            "Exception occoured:  division by zero\n",
            "Division is:  -1\n"
          ]
        }
      ]
    },
    {
      "cell_type": "code",
      "source": [
        "file = None\n",
        "\n",
        "try:\n",
        "  file = open(\"example.txt\", \"r\")\n",
        "  content = file.read()\n",
        "  print(content)\n",
        "except FileNotFoundError:\n",
        "  print(\"File not found\")\n",
        "finally:\n",
        "  if file:\n",
        "    file.close()\n",
        "    print(\"File closed\")"
      ],
      "metadata": {
        "colab": {
          "base_uri": "https://localhost:8080/"
        },
        "id": "0HiReI8cTQ_4",
        "outputId": "5ed18416-1ac0-42c9-a4b0-8ba4ea9934d1"
      },
      "execution_count": 7,
      "outputs": [
        {
          "output_type": "stream",
          "name": "stdout",
          "text": [
            "File not found\n"
          ]
        }
      ]
    },
    {
      "cell_type": "code",
      "source": [
        "balance = 0\n",
        "\n",
        "def deposit(amount):\n",
        "  global balance\n",
        "  if amount<=0:\n",
        "    raise ValueError(\"Invalid deposit amount\")\n",
        "  else:\n",
        "    balance += amount\n",
        "\n",
        "def withdraw(amount):\n",
        "  global balance\n",
        "  if amount>balance:\n",
        "    raise ValueError(\"Insufficient balance\")\n",
        "  else:\n",
        "    balance -= amount\n",
        "\n",
        "deposit(10)\n",
        "print(balance)\n",
        "withdraw(9)\n",
        "print(balance)"
      ],
      "metadata": {
        "colab": {
          "base_uri": "https://localhost:8080/"
        },
        "id": "TaBcIPAuVZMg",
        "outputId": "8cffdae3-1208-4446-ecd4-d3642f699189"
      },
      "execution_count": 8,
      "outputs": [
        {
          "output_type": "stream",
          "name": "stdout",
          "text": [
            "10\n",
            "1\n"
          ]
        }
      ]
    },
    {
      "cell_type": "markdown",
      "source": [
        "# Exercise"
      ],
      "metadata": {
        "id": "sSYGExhOsEyB"
      }
    },
    {
      "cell_type": "markdown",
      "source": [
        "**Background:** AtliQ, a software-based service company, operates an internal library to support the continuous learning and development of its employees. The library contains various types of items, such as books and journals, available for borrowing.\n",
        "\n",
        "**Problem Statement:** Celina, the librarian at AtliQ, currently handles the logistics of borrowing and returning items manually, which includes managing the status of each item and handling exceptions like borrowing attempts on items that are already loaned out. Your task is to assist Celina by automating part of her workload by completing the following tasks using Python."
      ],
      "metadata": {
        "id": "p2YppEL96VYH"
      }
    },
    {
      "cell_type": "markdown",
      "source": [
        "### Task 1: Implement the LibraryItem Class\n",
        "\n",
        "**Scenario:** Help Celina automate the borrowing and returning process for items in AtliQ's library.\n",
        "\n",
        "**Task:** Create a Python class ```LibraryItem``` with the following structure:\n",
        "\n",
        "**Attributes:**\n",
        "\n",
        "```title:``` Name of the item.\n",
        "\n",
        "```is_borrowed:``` Boolean, True if borrowed, False otherwise.\n",
        "\n",
        "**Methods:**\n",
        "\n",
        "```borrow_item()```: If is_borrowed is True, raise an exception\n",
        "\n",
        "```raise Exception(f\"The item '{self.title}' is already borrowed.\")```\n",
        "\n",
        "Otherwise, set ```is_borrowed``` to True.\n",
        "\n",
        "```return_item()``` should also have a similar logic."
      ],
      "metadata": {
        "id": "9AR-Or1v6Zye"
      }
    },
    {
      "cell_type": "code",
      "source": [
        "class LibraryItem:\n",
        "    def __init__(self, title):\n",
        "        self.title = title\n",
        "        self.is_borrowed = False\n",
        "\n",
        "    def borrow(self):\n",
        "        if self.is_borrowed:\n",
        "            raise Exception(f\"The item '{self.title}' is already borrowed.\")\n",
        "        self.is_borrowed = True\n",
        "        print(f\"{self.title} has been borrowed.\")\n",
        "\n",
        "    def return_item(self):\n",
        "        if not self.is_borrowed:\n",
        "            raise Exception(f\"The item '{self.title}' is not borrowed.\")\n",
        "        self.is_borrowed = False\n",
        "        print(f\"{self.title} has been returned.\")"
      ],
      "metadata": {
        "id": "1tgrxMOIZ5Mc"
      },
      "execution_count": 9,
      "outputs": []
    },
    {
      "cell_type": "code",
      "source": [
        "book = LibraryItem(\"The Magic Of Thinking Big\")\n",
        "book.title"
      ],
      "metadata": {
        "colab": {
          "base_uri": "https://localhost:8080/",
          "height": 35
        },
        "id": "XfCpGOUg6fH5",
        "outputId": "270cdcaf-eb49-48e3-ed2a-b3ca3f8c49db"
      },
      "execution_count": 10,
      "outputs": [
        {
          "output_type": "execute_result",
          "data": {
            "text/plain": [
              "'The Magic Of Thinking Big'"
            ],
            "application/vnd.google.colaboratory.intrinsic+json": {
              "type": "string"
            }
          },
          "metadata": {},
          "execution_count": 10
        }
      ]
    },
    {
      "cell_type": "code",
      "source": [
        "book.borrow()"
      ],
      "metadata": {
        "colab": {
          "base_uri": "https://localhost:8080/"
        },
        "id": "cgzif87b6iau",
        "outputId": "bffbbe70-3b71-4cbd-e6a6-25c8be2920ff"
      },
      "execution_count": 11,
      "outputs": [
        {
          "output_type": "stream",
          "name": "stdout",
          "text": [
            "The Magic Of Thinking Big has been borrowed.\n"
          ]
        }
      ]
    },
    {
      "cell_type": "code",
      "source": [
        "book.return_item()"
      ],
      "metadata": {
        "colab": {
          "base_uri": "https://localhost:8080/"
        },
        "id": "m9UHbFRt6klI",
        "outputId": "906b5742-7bd5-4d8a-fd7d-38b56a8f4134"
      },
      "execution_count": 12,
      "outputs": [
        {
          "output_type": "stream",
          "name": "stdout",
          "text": [
            "The Magic Of Thinking Big has been returned.\n"
          ]
        }
      ]
    },
    {
      "cell_type": "code",
      "source": [
        "book.borrow()"
      ],
      "metadata": {
        "colab": {
          "base_uri": "https://localhost:8080/"
        },
        "id": "rim6_kNn6mlk",
        "outputId": "85d449b6-bd21-4f19-82e6-60fa1116af92"
      },
      "execution_count": 13,
      "outputs": [
        {
          "output_type": "stream",
          "name": "stdout",
          "text": [
            "The Magic Of Thinking Big has been borrowed.\n"
          ]
        }
      ]
    },
    {
      "cell_type": "code",
      "source": [
        "book.borrow()"
      ],
      "metadata": {
        "colab": {
          "base_uri": "https://localhost:8080/",
          "height": 258
        },
        "id": "m_EbxcM76o7o",
        "outputId": "290e6d05-b752-43e0-d1dc-16ca4b8df0d5"
      },
      "execution_count": 14,
      "outputs": [
        {
          "output_type": "error",
          "ename": "Exception",
          "evalue": "The item 'The Magic Of Thinking Big' is already borrowed.",
          "traceback": [
            "\u001b[0;31m---------------------------------------------------------------------------\u001b[0m",
            "\u001b[0;31mException\u001b[0m                                 Traceback (most recent call last)",
            "\u001b[0;32m<ipython-input-14-58b3211917c4>\u001b[0m in \u001b[0;36m<cell line: 0>\u001b[0;34m()\u001b[0m\n\u001b[0;32m----> 1\u001b[0;31m \u001b[0mbook\u001b[0m\u001b[0;34m.\u001b[0m\u001b[0mborrow\u001b[0m\u001b[0;34m(\u001b[0m\u001b[0;34m)\u001b[0m\u001b[0;34m\u001b[0m\u001b[0;34m\u001b[0m\u001b[0m\n\u001b[0m",
            "\u001b[0;32m<ipython-input-9-3eb3c2e88b7a>\u001b[0m in \u001b[0;36mborrow\u001b[0;34m(self)\u001b[0m\n\u001b[1;32m      6\u001b[0m     \u001b[0;32mdef\u001b[0m \u001b[0mborrow\u001b[0m\u001b[0;34m(\u001b[0m\u001b[0mself\u001b[0m\u001b[0;34m)\u001b[0m\u001b[0;34m:\u001b[0m\u001b[0;34m\u001b[0m\u001b[0;34m\u001b[0m\u001b[0m\n\u001b[1;32m      7\u001b[0m         \u001b[0;32mif\u001b[0m \u001b[0mself\u001b[0m\u001b[0;34m.\u001b[0m\u001b[0mis_borrowed\u001b[0m\u001b[0;34m:\u001b[0m\u001b[0;34m\u001b[0m\u001b[0;34m\u001b[0m\u001b[0m\n\u001b[0;32m----> 8\u001b[0;31m             \u001b[0;32mraise\u001b[0m \u001b[0mException\u001b[0m\u001b[0;34m(\u001b[0m\u001b[0;34mf\"The item '{self.title}' is already borrowed.\"\u001b[0m\u001b[0;34m)\u001b[0m\u001b[0;34m\u001b[0m\u001b[0;34m\u001b[0m\u001b[0m\n\u001b[0m\u001b[1;32m      9\u001b[0m         \u001b[0mself\u001b[0m\u001b[0;34m.\u001b[0m\u001b[0mis_borrowed\u001b[0m \u001b[0;34m=\u001b[0m \u001b[0;32mTrue\u001b[0m\u001b[0;34m\u001b[0m\u001b[0;34m\u001b[0m\u001b[0m\n\u001b[1;32m     10\u001b[0m         \u001b[0mprint\u001b[0m\u001b[0;34m(\u001b[0m\u001b[0;34mf\"{self.title} has been borrowed.\"\u001b[0m\u001b[0;34m)\u001b[0m\u001b[0;34m\u001b[0m\u001b[0;34m\u001b[0m\u001b[0m\n",
            "\u001b[0;31mException\u001b[0m: The item 'The Magic Of Thinking Big' is already borrowed."
          ]
        }
      ]
    },
    {
      "cell_type": "markdown",
      "source": [
        "### Task 2: Create the Book Class\n",
        "\n",
        "**Scenario:** Celina at AtliQ's library needs to catalog books separately from other items to provide detailed information, including the authors' names.\n",
        "\n",
        "**Task:** Develop a derived class Book from ```LibraryItem``` to manage books with additional details.\n",
        "\n",
        "**Details:**\n",
        "\n",
        "**1. Attributes:**\n",
        "\n",
        "- Inherits all attributes from ```LibraryItem```.\n",
        "\n",
        "- ```author```: Name of the book's author.\n",
        "\n",
        "**2. Implementation:**\n",
        "\n",
        "- Create an object of the Book class with:\n",
        "    - ```title```: \"The Magic of Thinking Big\"\n",
        "    - ```author```: \"David Schwartz\"\n",
        "\n",
        "This will help Celina keep a more detailed inventory and enhance the library’s catalog system."
      ],
      "metadata": {
        "id": "v6__LY7z6uoo"
      }
    },
    {
      "cell_type": "code",
      "source": [
        "class Book(LibraryItem):\n",
        "    def __init__(self, title, author):\n",
        "        super().__init__(title)\n",
        "        self.author = author"
      ],
      "metadata": {
        "id": "5XkOXhad6rhc"
      },
      "execution_count": 15,
      "outputs": []
    },
    {
      "cell_type": "code",
      "source": [
        "book = Book(\"The Magic Of Thinking Big\", \"David Schwartz\")\n",
        "\n",
        "print(f\"Title: {book.title}, Author: {book.author}\")"
      ],
      "metadata": {
        "colab": {
          "base_uri": "https://localhost:8080/"
        },
        "id": "eP_rVDt86xdT",
        "outputId": "4eee0993-93a5-48d6-c8ad-074d7fd02050"
      },
      "execution_count": 16,
      "outputs": [
        {
          "output_type": "stream",
          "name": "stdout",
          "text": [
            "Title: The Magic Of Thinking Big, Author: David Schwartz\n"
          ]
        }
      ]
    },
    {
      "cell_type": "markdown",
      "source": [
        "### Task 3: Create the Journal Class\n",
        "\n",
        "**Scenario:** Celina needs to manage journals effectively in AtliQ's library, where each journal has specific issues that are often requested by staff for their research and development work.\n",
        "\n",
        "**Task:** Develop a derived class ```Journal``` from ```LibraryItem``` to manage journals with specific issue numbers.\n",
        "\n",
        "**Details:**\n",
        "\n",
        "**1. Attributes:**\n",
        "\n",
        "- Inherits all attributes from ```LibraryItem```.\n",
        "- ```issue_number```: The specific issue number of the journal.\n",
        "\n",
        "**2. Implementation:**\n",
        "\n",
        "- Create an object of the Journal class with:\n",
        "    - ```title```: \"Nature\"\n",
        "    - ```issue_number``` : 50\n",
        "\n",
        "This setup will help Celina organize journals by issue number, making them easier to locate and manage."
      ],
      "metadata": {
        "id": "6BAYpOVJ64PY"
      }
    },
    {
      "cell_type": "code",
      "source": [
        "class Journal(LibraryItem):\n",
        "    def __init__(self, title, issue_number):\n",
        "        super().__init__(title)\n",
        "        self.issue_number = issue_number\n",
        "\n",
        "journal = Journal(\"Nature\", \"50\")\n",
        "\n",
        "print(f\"Title: {journal.title}, Issue Number: {journal.issue_number}\")"
      ],
      "metadata": {
        "colab": {
          "base_uri": "https://localhost:8080/"
        },
        "id": "qp_rhS54604e",
        "outputId": "d6d47c50-ba04-49a8-9ac4-dff51ecc1225"
      },
      "execution_count": 17,
      "outputs": [
        {
          "output_type": "stream",
          "name": "stdout",
          "text": [
            "Title: Nature, Issue Number: 50\n"
          ]
        }
      ]
    },
    {
      "cell_type": "markdown",
      "source": [
        "### Task 4: Handle Borrowing Exceptions\n",
        "\n",
        "**Scenario:** Celina sometimes gets requests to borrow a book that’s already borrowed. To prevent this, we need to handle this situation in our code.\n",
        "\n",
        "**Task:** Try borrowing the same book twice and handle the exception that occurs.\n",
        "\n",
        "**Details:**\n",
        "\n",
        "**1. Process:**\n",
        "\n",
        "- Use the Book object from Task 2.\n",
        "- Attempt to borrow the book two times in a row.\n",
        "\n",
        "**2. Exception Handling:**\n",
        "\n",
        "- Catch the exception raised when trying to borrow it the second time.\n",
        "- Print the exception message.\n",
        "\n",
        "This will help Celina prevent errors when someone tries to borrow an already borrowed book."
      ],
      "metadata": {
        "id": "R-Sq-o6a6_mN"
      }
    },
    {
      "cell_type": "code",
      "source": [
        "try:\n",
        "    book.borrow()\n",
        "    book.borrow()  # This should raise an exception\n",
        "except Exception as e:\n",
        "    print(e)"
      ],
      "metadata": {
        "colab": {
          "base_uri": "https://localhost:8080/"
        },
        "id": "zMnFaJ6z67Rh",
        "outputId": "1353495b-4c59-4c4b-baa8-8ff689720495"
      },
      "execution_count": 18,
      "outputs": [
        {
          "output_type": "stream",
          "name": "stdout",
          "text": [
            "The Magic Of Thinking Big has been borrowed.\n",
            "The item 'The Magic Of Thinking Big' is already borrowed.\n"
          ]
        }
      ]
    },
    {
      "cell_type": "markdown",
      "source": [
        "### Task 5: Handle Return Exceptions\n",
        "\n",
        "**Scenario:** Celina sometimes faces issues when someone tries to return a journal that hasn’t been borrowed yet. This creates an opportunity to ensure such mistakes are handled gracefully.\n",
        "\n",
        "**Task:** Simulate and handle the exception when trying to return a journal that has not been borrowed.\n",
        "\n",
        "**Details:**\n",
        "\n",
        "**1. Process:**\n",
        "\n",
        "- Use the Journal object from Task 3.\n",
        "- Attempt to return the journal without it being borrowed first.\n",
        "\n",
        "**2. Exception Handling:**\n",
        "\n",
        "- Catch the exception that occurs when trying to return the un-borrowed journal.\n",
        "- Print the exception message.\n",
        "\n",
        "This will assist Celina in managing return processes more efficiently and prevent unnecessary errors."
      ],
      "metadata": {
        "id": "5jXO_Seq7GLk"
      }
    },
    {
      "cell_type": "code",
      "source": [
        "try:\n",
        "    journal.return_item()  # This should raise an exception\n",
        "except Exception as e:\n",
        "    print(e)"
      ],
      "metadata": {
        "colab": {
          "base_uri": "https://localhost:8080/"
        },
        "id": "vCNs-jbz7CrB",
        "outputId": "94f7e283-7f2b-4e4a-dd0c-d3b9b2edd1f4"
      },
      "execution_count": 19,
      "outputs": [
        {
          "output_type": "stream",
          "name": "stdout",
          "text": [
            "The item 'Nature' is not borrowed.\n"
          ]
        }
      ]
    },
    {
      "cell_type": "code",
      "source": [],
      "metadata": {
        "id": "pUOvxteF7I3R"
      },
      "execution_count": null,
      "outputs": []
    }
  ]
}