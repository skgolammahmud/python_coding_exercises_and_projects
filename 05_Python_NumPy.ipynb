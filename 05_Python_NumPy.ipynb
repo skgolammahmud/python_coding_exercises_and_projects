{
  "nbformat": 4,
  "nbformat_minor": 0,
  "metadata": {
    "colab": {
      "provenance": []
    },
    "kernelspec": {
      "name": "python3",
      "display_name": "Python 3"
    },
    "language_info": {
      "name": "python"
    }
  },
  "cells": [
    {
      "cell_type": "markdown",
      "source": [
        "#### NumPy (numeric Python) is a popular library used for data analysis, machine learning and scientific computing.\n",
        "\n",
        "#### Numpy arrays offers several benefits over plain Python list such as,\n",
        "* Less memory consumption\n",
        "* Fast operations\n",
        "* Convenient APIs for variety of mathematical functions"
      ],
      "metadata": {
        "id": "SYwLIcQ--DFY"
      }
    },
    {
      "cell_type": "markdown",
      "source": [
        "# Basic Operations"
      ],
      "metadata": {
        "id": "X94jwADFT03r"
      }
    },
    {
      "cell_type": "code",
      "execution_count": 1,
      "metadata": {
        "colab": {
          "base_uri": "https://localhost:8080/"
        },
        "id": "vyYvKEMA8X2h",
        "outputId": "72b2030a-2b40-4965-9010-3d55d78bc682"
      },
      "outputs": [
        {
          "output_type": "execute_result",
          "data": {
            "text/plain": [
              "1"
            ]
          },
          "metadata": {},
          "execution_count": 1
        }
      ],
      "source": [
        "import numpy as np\n",
        "\n",
        "rev_q1 = np.array([10,12,9])\n",
        "rev_q1.ndim"
      ]
    },
    {
      "cell_type": "code",
      "source": [
        "rev = np.array([[10, 12,9], [15,11,13]])\n",
        "rev.ndim # dimension"
      ],
      "metadata": {
        "colab": {
          "base_uri": "https://localhost:8080/"
        },
        "id": "4Y8ks4y78yWX",
        "outputId": "94f70412-2434-41bf-fd2e-09d165cace67"
      },
      "execution_count": 2,
      "outputs": [
        {
          "output_type": "execute_result",
          "data": {
            "text/plain": [
              "2"
            ]
          },
          "metadata": {},
          "execution_count": 2
        }
      ]
    },
    {
      "cell_type": "code",
      "source": [
        "# in order to see a value\n",
        "rev[1,0]"
      ],
      "metadata": {
        "colab": {
          "base_uri": "https://localhost:8080/"
        },
        "id": "LkmNTLob_V75",
        "outputId": "9d77ac27-6a3d-4130-bb6f-2d580bfbf6fa"
      },
      "execution_count": 3,
      "outputs": [
        {
          "output_type": "execute_result",
          "data": {
            "text/plain": [
              "np.int64(15)"
            ]
          },
          "metadata": {},
          "execution_count": 3
        }
      ]
    },
    {
      "cell_type": "code",
      "source": [
        "# in order to change a value simply\n",
        "rev[1,1] = 14\n",
        "rev"
      ],
      "metadata": {
        "colab": {
          "base_uri": "https://localhost:8080/"
        },
        "id": "hrPp-iMX_h7Y",
        "outputId": "2155dafe-b9ce-437c-f4a0-230a9d572c4f"
      },
      "execution_count": 4,
      "outputs": [
        {
          "output_type": "execute_result",
          "data": {
            "text/plain": [
              "array([[10, 12,  9],\n",
              "       [15, 14, 13]])"
            ]
          },
          "metadata": {},
          "execution_count": 4
        }
      ]
    },
    {
      "cell_type": "code",
      "source": [
        "# data type\n",
        "rev.dtype"
      ],
      "metadata": {
        "colab": {
          "base_uri": "https://localhost:8080/"
        },
        "id": "O1BsNjPd_xBV",
        "outputId": "70b2e345-e40b-4297-ae4a-22481679c97d"
      },
      "execution_count": 5,
      "outputs": [
        {
          "output_type": "execute_result",
          "data": {
            "text/plain": [
              "dtype('int64')"
            ]
          },
          "metadata": {},
          "execution_count": 5
        }
      ]
    },
    {
      "cell_type": "code",
      "source": [
        "# in order to fix the data type\n",
        "rev = np.array([[10, 12,9], [15,11,13]], dtype='float64')\n",
        "rev.dtype"
      ],
      "metadata": {
        "colab": {
          "base_uri": "https://localhost:8080/"
        },
        "id": "pyTEEkBHAAni",
        "outputId": "b3f5a80c-51e8-4149-fb94-ca2aba2fd3f3"
      },
      "execution_count": 6,
      "outputs": [
        {
          "output_type": "execute_result",
          "data": {
            "text/plain": [
              "dtype('float64')"
            ]
          },
          "metadata": {},
          "execution_count": 6
        }
      ]
    },
    {
      "cell_type": "code",
      "source": [
        "# number of bytes\n",
        "rev.nbytes"
      ],
      "metadata": {
        "colab": {
          "base_uri": "https://localhost:8080/"
        },
        "id": "xAb3HxP9ANgw",
        "outputId": "7925a7d5-31e3-418d-cfaa-ac2fa0094546"
      },
      "execution_count": 7,
      "outputs": [
        {
          "output_type": "execute_result",
          "data": {
            "text/plain": [
              "48"
            ]
          },
          "metadata": {},
          "execution_count": 7
        }
      ]
    },
    {
      "cell_type": "code",
      "source": [
        "# item size\n",
        "rev.itemsize"
      ],
      "metadata": {
        "colab": {
          "base_uri": "https://localhost:8080/"
        },
        "id": "PlUZtuckBuGj",
        "outputId": "a19fffdd-41d8-4fa9-8016-4b6d08e8eb22"
      },
      "execution_count": 8,
      "outputs": [
        {
          "output_type": "execute_result",
          "data": {
            "text/plain": [
              "8"
            ]
          },
          "metadata": {},
          "execution_count": 8
        }
      ]
    },
    {
      "cell_type": "code",
      "source": [
        "# size\n",
        "rev.size"
      ],
      "metadata": {
        "colab": {
          "base_uri": "https://localhost:8080/"
        },
        "id": "XMpec5j4B0av",
        "outputId": "7273a42d-a161-41ce-eaeb-45daa6c23ab1"
      },
      "execution_count": 9,
      "outputs": [
        {
          "output_type": "execute_result",
          "data": {
            "text/plain": [
              "6"
            ]
          },
          "metadata": {},
          "execution_count": 9
        }
      ]
    },
    {
      "cell_type": "code",
      "source": [
        "# shape\n",
        "rev.shape"
      ],
      "metadata": {
        "colab": {
          "base_uri": "https://localhost:8080/"
        },
        "id": "mxwJEL1rB6Pb",
        "outputId": "fe3edcb9-c832-4c30-d60f-88ce8c452c5b"
      },
      "execution_count": 10,
      "outputs": [
        {
          "output_type": "execute_result",
          "data": {
            "text/plain": [
              "(2, 3)"
            ]
          },
          "metadata": {},
          "execution_count": 10
        }
      ]
    },
    {
      "cell_type": "code",
      "source": [
        "# sorting\n",
        "np.sort(rev)"
      ],
      "metadata": {
        "colab": {
          "base_uri": "https://localhost:8080/"
        },
        "id": "ycHBjOQpB-cP",
        "outputId": "8ddd1e71-61fd-48ab-c7c7-3b3e0d5447f2"
      },
      "execution_count": 11,
      "outputs": [
        {
          "output_type": "execute_result",
          "data": {
            "text/plain": [
              "array([[ 9., 10., 12.],\n",
              "       [11., 13., 15.]])"
            ]
          },
          "metadata": {},
          "execution_count": 11
        }
      ]
    },
    {
      "cell_type": "code",
      "source": [
        "np.sort(rev, axis=None)"
      ],
      "metadata": {
        "colab": {
          "base_uri": "https://localhost:8080/"
        },
        "id": "ZFQJ9oFACebg",
        "outputId": "7d61a0ef-1bfd-43ca-fccc-19d75b19d4b9"
      },
      "execution_count": 12,
      "outputs": [
        {
          "output_type": "execute_result",
          "data": {
            "text/plain": [
              "array([ 9., 10., 11., 12., 13., 15.])"
            ]
          },
          "metadata": {},
          "execution_count": 12
        }
      ]
    },
    {
      "cell_type": "code",
      "source": [
        "np.zeros((2,3))"
      ],
      "metadata": {
        "colab": {
          "base_uri": "https://localhost:8080/"
        },
        "id": "pQjARlENJFrD",
        "outputId": "b72d2dab-644a-4758-86e8-495851254370"
      },
      "execution_count": 13,
      "outputs": [
        {
          "output_type": "execute_result",
          "data": {
            "text/plain": [
              "array([[0., 0., 0.],\n",
              "       [0., 0., 0.]])"
            ]
          },
          "metadata": {},
          "execution_count": 13
        }
      ]
    },
    {
      "cell_type": "code",
      "source": [
        "np.ones((3,5))"
      ],
      "metadata": {
        "colab": {
          "base_uri": "https://localhost:8080/"
        },
        "id": "Sdd7O_yRJMQH",
        "outputId": "104f74c3-a7f7-4208-d1a3-d53a496b6f3e"
      },
      "execution_count": 14,
      "outputs": [
        {
          "output_type": "execute_result",
          "data": {
            "text/plain": [
              "array([[1., 1., 1., 1., 1.],\n",
              "       [1., 1., 1., 1., 1.],\n",
              "       [1., 1., 1., 1., 1.]])"
            ]
          },
          "metadata": {},
          "execution_count": 14
        }
      ]
    },
    {
      "cell_type": "code",
      "source": [
        "np.arange(10,20)"
      ],
      "metadata": {
        "colab": {
          "base_uri": "https://localhost:8080/"
        },
        "id": "vJ0zFvM_JZ6s",
        "outputId": "193ddf05-247c-4b7f-8318-f306040816ba"
      },
      "execution_count": 15,
      "outputs": [
        {
          "output_type": "execute_result",
          "data": {
            "text/plain": [
              "array([10, 11, 12, 13, 14, 15, 16, 17, 18, 19])"
            ]
          },
          "metadata": {},
          "execution_count": 15
        }
      ]
    },
    {
      "cell_type": "code",
      "source": [
        "# only even elements\n",
        "np.arange(20,31,2)"
      ],
      "metadata": {
        "colab": {
          "base_uri": "https://localhost:8080/"
        },
        "id": "H5epSWajJez0",
        "outputId": "6b96493e-2799-4737-945b-d5113f0e7260"
      },
      "execution_count": 16,
      "outputs": [
        {
          "output_type": "execute_result",
          "data": {
            "text/plain": [
              "array([20, 22, 24, 26, 28, 30])"
            ]
          },
          "metadata": {},
          "execution_count": 16
        }
      ]
    },
    {
      "cell_type": "code",
      "source": [
        "# linearly spaced elements\n",
        "np.linspace(10,20,5)"
      ],
      "metadata": {
        "colab": {
          "base_uri": "https://localhost:8080/"
        },
        "id": "KOIFh5W2JoAC",
        "outputId": "ba5ce38c-67b5-4945-9ef3-7123900f2180"
      },
      "execution_count": 17,
      "outputs": [
        {
          "output_type": "execute_result",
          "data": {
            "text/plain": [
              "array([10. , 12.5, 15. , 17.5, 20. ])"
            ]
          },
          "metadata": {},
          "execution_count": 17
        }
      ]
    },
    {
      "cell_type": "code",
      "source": [
        "# in order to flatten an array\n",
        "rev.flatten()"
      ],
      "metadata": {
        "colab": {
          "base_uri": "https://localhost:8080/"
        },
        "id": "_ZQyMvoQJ3W4",
        "outputId": "dd6d7d55-7562-48a9-8373-9ef5e4b1353c"
      },
      "execution_count": 18,
      "outputs": [
        {
          "output_type": "execute_result",
          "data": {
            "text/plain": [
              "array([10., 12.,  9., 15., 11., 13.])"
            ]
          },
          "metadata": {},
          "execution_count": 18
        }
      ]
    },
    {
      "cell_type": "code",
      "source": [
        "# reshape\n",
        "rev.reshape(3,2)"
      ],
      "metadata": {
        "colab": {
          "base_uri": "https://localhost:8080/"
        },
        "id": "TqTJhpyBKF8k",
        "outputId": "f2e3cda1-befb-4e2e-bf2b-67cedb0bdc36"
      },
      "execution_count": 19,
      "outputs": [
        {
          "output_type": "execute_result",
          "data": {
            "text/plain": [
              "array([[10., 12.],\n",
              "       [ 9., 15.],\n",
              "       [11., 13.]])"
            ]
          },
          "metadata": {},
          "execution_count": 19
        }
      ]
    },
    {
      "cell_type": "code",
      "source": [
        "# minimum\n",
        "rev.min()"
      ],
      "metadata": {
        "colab": {
          "base_uri": "https://localhost:8080/"
        },
        "id": "Aw5PMD_jKSeT",
        "outputId": "d2dbcd6b-c9e4-45aa-f1df-1a78892412c1"
      },
      "execution_count": 20,
      "outputs": [
        {
          "output_type": "execute_result",
          "data": {
            "text/plain": [
              "np.float64(9.0)"
            ]
          },
          "metadata": {},
          "execution_count": 20
        }
      ]
    },
    {
      "cell_type": "code",
      "source": [
        "# maximum\n",
        "rev.max()"
      ],
      "metadata": {
        "colab": {
          "base_uri": "https://localhost:8080/"
        },
        "id": "R-t4gIwUK1pO",
        "outputId": "e8302db7-f3c6-4956-bf8a-3563d13ef54b"
      },
      "execution_count": 21,
      "outputs": [
        {
          "output_type": "execute_result",
          "data": {
            "text/plain": [
              "np.float64(15.0)"
            ]
          },
          "metadata": {},
          "execution_count": 21
        }
      ]
    },
    {
      "cell_type": "code",
      "source": [
        "rev"
      ],
      "metadata": {
        "colab": {
          "base_uri": "https://localhost:8080/"
        },
        "id": "JaT3INHjK3_i",
        "outputId": "cb1a514e-2f67-4373-d41a-daf0e2fc19a1"
      },
      "execution_count": 22,
      "outputs": [
        {
          "output_type": "execute_result",
          "data": {
            "text/plain": [
              "array([[10., 12.,  9.],\n",
              "       [15., 11., 13.]])"
            ]
          },
          "metadata": {},
          "execution_count": 22
        }
      ]
    },
    {
      "cell_type": "code",
      "source": [
        "# sum of rows\n",
        "rev.sum(axis=1)"
      ],
      "metadata": {
        "colab": {
          "base_uri": "https://localhost:8080/"
        },
        "id": "ORUIaIFKQNzf",
        "outputId": "26b08df7-5dee-464c-ef5e-cd9e7559d667"
      },
      "execution_count": 23,
      "outputs": [
        {
          "output_type": "execute_result",
          "data": {
            "text/plain": [
              "array([31., 39.])"
            ]
          },
          "metadata": {},
          "execution_count": 23
        }
      ]
    },
    {
      "cell_type": "code",
      "source": [
        "# sum of columns\n",
        "rev.sum(axis=0)"
      ],
      "metadata": {
        "colab": {
          "base_uri": "https://localhost:8080/"
        },
        "id": "bb7mYtdCQR3G",
        "outputId": "1eff08bb-b7a4-4c51-8181-36140a1590b8"
      },
      "execution_count": 24,
      "outputs": [
        {
          "output_type": "execute_result",
          "data": {
            "text/plain": [
              "array([25., 23., 22.])"
            ]
          },
          "metadata": {},
          "execution_count": 24
        }
      ]
    },
    {
      "cell_type": "code",
      "source": [
        "for row in rev:\n",
        "  print(\"row: \", row)"
      ],
      "metadata": {
        "colab": {
          "base_uri": "https://localhost:8080/"
        },
        "id": "UjLOVT_QQYCS",
        "outputId": "bd3245a5-6fb3-40fd-d370-fbafc545f737"
      },
      "execution_count": 25,
      "outputs": [
        {
          "output_type": "stream",
          "name": "stdout",
          "text": [
            "row:  [10. 12.  9.]\n",
            "row:  [15. 11. 13.]\n"
          ]
        }
      ]
    },
    {
      "cell_type": "code",
      "source": [
        "b = np.array([1,4,16])\n",
        "np.sqrt(b) # square root"
      ],
      "metadata": {
        "colab": {
          "base_uri": "https://localhost:8080/"
        },
        "id": "n9u7D2YWRy07",
        "outputId": "1be7ed52-bdc8-4f3d-deb1-20b550227350"
      },
      "execution_count": 26,
      "outputs": [
        {
          "output_type": "execute_result",
          "data": {
            "text/plain": [
              "array([1., 2., 4.])"
            ]
          },
          "metadata": {},
          "execution_count": 26
        }
      ]
    },
    {
      "cell_type": "code",
      "source": [
        "np.std(b) # standard daviation"
      ],
      "metadata": {
        "colab": {
          "base_uri": "https://localhost:8080/"
        },
        "id": "wkUSBV0uR_ry",
        "outputId": "10d3dc16-ba14-4ebf-deb8-42cca3a39563"
      },
      "execution_count": 27,
      "outputs": [
        {
          "output_type": "execute_result",
          "data": {
            "text/plain": [
              "np.float64(6.48074069840786)"
            ]
          },
          "metadata": {},
          "execution_count": 27
        }
      ]
    },
    {
      "cell_type": "markdown",
      "source": [
        "# Matrix Operations"
      ],
      "metadata": {
        "id": "NEDYPLQOT8Fm"
      }
    },
    {
      "cell_type": "code",
      "source": [
        "# Sales data for Quarter 1 (Matrix 1)\n",
        "# Rows represents different products, columns represents different regions\n",
        "\n",
        "q1 = np.array([\n",
        "    [200,220,250],  # product A\n",
        "    [150,180,210],  # product B\n",
        "    [300,330,260]   # product C\n",
        "])\n",
        "\n",
        "q2 = np.array([\n",
        "    [209,231,259],  # product A\n",
        "    [155,192,222],  # product B\n",
        "    [310,340,375]   # product C\n",
        "])"
      ],
      "metadata": {
        "id": "HkxoHQA_TasO"
      },
      "execution_count": 28,
      "outputs": []
    },
    {
      "cell_type": "code",
      "source": [
        "# total sales\n",
        "q1 + q2"
      ],
      "metadata": {
        "colab": {
          "base_uri": "https://localhost:8080/"
        },
        "id": "4AwUEHuGWd2r",
        "outputId": "6957a7e1-594d-4032-d30a-670d5cc495ba"
      },
      "execution_count": 29,
      "outputs": [
        {
          "output_type": "execute_result",
          "data": {
            "text/plain": [
              "array([[409, 451, 509],\n",
              "       [305, 372, 432],\n",
              "       [610, 670, 635]])"
            ]
          },
          "metadata": {},
          "execution_count": 29
        }
      ]
    },
    {
      "cell_type": "code",
      "source": [
        "# sales growth\n",
        "q2 - q1"
      ],
      "metadata": {
        "colab": {
          "base_uri": "https://localhost:8080/"
        },
        "id": "mTwD2_aFWjcG",
        "outputId": "a3c93879-c0c0-4745-adf3-3491d6cd8016"
      },
      "execution_count": 30,
      "outputs": [
        {
          "output_type": "execute_result",
          "data": {
            "text/plain": [
              "array([[  9,  11,   9],\n",
              "       [  5,  12,  12],\n",
              "       [ 10,  10, 115]])"
            ]
          },
          "metadata": {},
          "execution_count": 30
        }
      ]
    },
    {
      "cell_type": "code",
      "source": [
        "prices = np.array([\n",
        "          [10, 12, 11], # Prices for Product A in different regions\n",
        "          [18, 9, 10],  # Prices for Product B\n",
        "          [15, 16, 17]  # Prices for Product C\n",
        "])\n",
        "\n",
        "q1_revenue = q1 * prices\n",
        "q1_revenue"
      ],
      "metadata": {
        "colab": {
          "base_uri": "https://localhost:8080/"
        },
        "id": "LH8g9AuAW1xR",
        "outputId": "44b73528-195f-4a91-ca3d-76416fb179f1"
      },
      "execution_count": 31,
      "outputs": [
        {
          "output_type": "execute_result",
          "data": {
            "text/plain": [
              "array([[2000, 2640, 2750],\n",
              "       [2700, 1620, 2100],\n",
              "       [4500, 5280, 4420]])"
            ]
          },
          "metadata": {},
          "execution_count": 31
        }
      ]
    },
    {
      "cell_type": "markdown",
      "source": [
        "#### **np.dot(m1,m2)** and **np.cross(m1,m2)** can be used to perform a dot and cross products between two metrices (m1 and m2)."
      ],
      "metadata": {
        "id": "8wZQsqhoZb8m"
      }
    },
    {
      "cell_type": "code",
      "source": [
        "# Defining two vectors\n",
        "a = np.array([1, 2, 3])\n",
        "b = np.array([4, 5, 6])\n",
        "\n",
        "# Computing dot product\n",
        "dot_product = np.dot(a, b)\n",
        "print(\"Dot product:\", dot_product)\n",
        "\n",
        "# Computing cross product\n",
        "cross_product = np.cross(a, b)\n",
        "print(\"Cross product:\", cross_product)"
      ],
      "metadata": {
        "colab": {
          "base_uri": "https://localhost:8080/"
        },
        "id": "j-LFsUv4XzY5",
        "outputId": "9c7502ee-1fc0-4bd8-9724-939dc3a09ee6"
      },
      "execution_count": 32,
      "outputs": [
        {
          "output_type": "stream",
          "name": "stdout",
          "text": [
            "Dot product: 32\n",
            "Cross product: [-3  6 -3]\n"
          ]
        }
      ]
    },
    {
      "cell_type": "markdown",
      "source": [
        "# Slicing, Stacking\n",
        "\n",
        "* NumPy supports index and slicing operators similar to Python native list.\n",
        "* np.hstack and np.vstack are used to stack two NumPy arrays horizontally and vertically.\n",
        "* np.hsplit and np.vsplit are used to split a numpy array either horizontally or vertically."
      ],
      "metadata": {
        "id": "8yfn1nbWZptm"
      }
    },
    {
      "cell_type": "code",
      "source": [
        "# Customer ID, Name\n",
        "c = np.array([\n",
        "      [101, 'Mira'],\n",
        "      [102,'Abdul'],\n",
        "      [103,'Andrea']\n",
        "])\n",
        "\n",
        "# Customer Id, Purchase Amount, Purchase Date\n",
        "d = np.array([\n",
        "      [101, 250.50, '2023-08-01'],\n",
        "      [102, 150.00, '2023-08-02'],\n",
        "      [103, 300.75, '2023-08-01']\n",
        "])"
      ],
      "metadata": {
        "id": "VRH0qdj-ZBJy"
      },
      "execution_count": 33,
      "outputs": []
    },
    {
      "cell_type": "code",
      "source": [
        "# horizontal stack\n",
        "np.hstack((c,d))"
      ],
      "metadata": {
        "colab": {
          "base_uri": "https://localhost:8080/"
        },
        "id": "UTvY5GKicjMA",
        "outputId": "9f2a1ce3-cf2b-4bb8-cb17-d72849e421b4"
      },
      "execution_count": 34,
      "outputs": [
        {
          "output_type": "execute_result",
          "data": {
            "text/plain": [
              "array([['101', 'Mira', '101', '250.5', '2023-08-01'],\n",
              "       ['102', 'Abdul', '102', '150.0', '2023-08-02'],\n",
              "       ['103', 'Andrea', '103', '300.75', '2023-08-01']], dtype='<U32')"
            ]
          },
          "metadata": {},
          "execution_count": 34
        }
      ]
    },
    {
      "cell_type": "code",
      "source": [
        "# Customer ID, Name\n",
        "c = np.array([\n",
        "      [101, 'Mira'],\n",
        "      [102,'Abdul'],\n",
        "      [103,'Andrea']\n",
        "])\n",
        "e = np.array([\n",
        "      [104, 'Venkat'],\n",
        "      [105, 'John'],\n",
        "      [106, 'Kathy']\n",
        "])"
      ],
      "metadata": {
        "id": "tu17S8LacpU7"
      },
      "execution_count": 35,
      "outputs": []
    },
    {
      "cell_type": "code",
      "source": [
        "# vertical stack\n",
        "np.vstack((c,e))"
      ],
      "metadata": {
        "colab": {
          "base_uri": "https://localhost:8080/"
        },
        "id": "PPm_10NidE-8",
        "outputId": "5bed639d-bd1c-4b78-e191-82c7493ea33c"
      },
      "execution_count": 36,
      "outputs": [
        {
          "output_type": "execute_result",
          "data": {
            "text/plain": [
              "array([['101', 'Mira'],\n",
              "       ['102', 'Abdul'],\n",
              "       ['103', 'Andrea'],\n",
              "       ['104', 'Venkat'],\n",
              "       ['105', 'John'],\n",
              "       ['106', 'Kathy']], dtype='<U21')"
            ]
          },
          "metadata": {},
          "execution_count": 36
        }
      ]
    },
    {
      "cell_type": "code",
      "source": [
        "transactions = np.array([\n",
        "              [101, 'Mohan', 250.50, '2023-08-01'],\n",
        "              [102, 'Bob', 150.00, '2023-08-02'],\n",
        "              [103, 'Fatima', 300.75, '2023-08-01'],\n",
        "              [104, 'David', 400.20, '2023-08-03'],\n",
        "              [105, 'Aryan', 330.1, '2023-08-04']\n",
        "])\n",
        "\n",
        "# horizontal split\n",
        "a , b = np.hsplit(transactions, [3])"
      ],
      "metadata": {
        "id": "PS84mzDydmbX"
      },
      "execution_count": 37,
      "outputs": []
    },
    {
      "cell_type": "code",
      "source": [
        "b"
      ],
      "metadata": {
        "colab": {
          "base_uri": "https://localhost:8080/"
        },
        "id": "Uv98olTIhKRX",
        "outputId": "c33b6f32-319e-44bc-efaf-6042aabec16a"
      },
      "execution_count": 38,
      "outputs": [
        {
          "output_type": "execute_result",
          "data": {
            "text/plain": [
              "array([['2023-08-01'],\n",
              "       ['2023-08-02'],\n",
              "       ['2023-08-01'],\n",
              "       ['2023-08-03'],\n",
              "       ['2023-08-04']], dtype='<U32')"
            ]
          },
          "metadata": {},
          "execution_count": 38
        }
      ]
    },
    {
      "cell_type": "code",
      "source": [
        "# vertical split\n",
        "x, y = np.vsplit(transactions, [4])"
      ],
      "metadata": {
        "id": "kAj__g_YhMb0"
      },
      "execution_count": 39,
      "outputs": []
    },
    {
      "cell_type": "code",
      "source": [
        "y"
      ],
      "metadata": {
        "colab": {
          "base_uri": "https://localhost:8080/"
        },
        "id": "lLR6nYPBiPKG",
        "outputId": "a3202c3f-cec0-494a-c3b0-bcb342c55744"
      },
      "execution_count": 40,
      "outputs": [
        {
          "output_type": "execute_result",
          "data": {
            "text/plain": [
              "array([['105', 'Aryan', '330.1', '2023-08-04']], dtype='<U32')"
            ]
          },
          "metadata": {},
          "execution_count": 40
        }
      ]
    },
    {
      "cell_type": "code",
      "source": [
        "monthly_sales = np.array([30,33,35,28,42])\n",
        "\n",
        "result = monthly_sales < 32\n",
        "result"
      ],
      "metadata": {
        "colab": {
          "base_uri": "https://localhost:8080/"
        },
        "id": "baa5W442iQFH",
        "outputId": "f7233005-4058-4c48-8c93-13c2c2a3463f"
      },
      "execution_count": 41,
      "outputs": [
        {
          "output_type": "execute_result",
          "data": {
            "text/plain": [
              "array([ True, False, False,  True, False])"
            ]
          },
          "metadata": {},
          "execution_count": 41
        }
      ]
    },
    {
      "cell_type": "code",
      "source": [
        "monthly_sales[result]"
      ],
      "metadata": {
        "colab": {
          "base_uri": "https://localhost:8080/"
        },
        "id": "GX1phN8IjASJ",
        "outputId": "1bd6b05e-e041-4eb7-ce08-0a72b364349d"
      },
      "execution_count": 42,
      "outputs": [
        {
          "output_type": "execute_result",
          "data": {
            "text/plain": [
              "array([30, 28])"
            ]
          },
          "metadata": {},
          "execution_count": 42
        }
      ]
    },
    {
      "cell_type": "code",
      "source": [
        "# index of max value\n",
        "np.argmax(monthly_sales)"
      ],
      "metadata": {
        "colab": {
          "base_uri": "https://localhost:8080/"
        },
        "id": "gwFC9PYLjOfc",
        "outputId": "8012da5d-7af9-457d-f603-25288edb1916"
      },
      "execution_count": 43,
      "outputs": [
        {
          "output_type": "execute_result",
          "data": {
            "text/plain": [
              "np.int64(4)"
            ]
          },
          "metadata": {},
          "execution_count": 43
        }
      ]
    },
    {
      "cell_type": "code",
      "source": [
        "transactions"
      ],
      "metadata": {
        "colab": {
          "base_uri": "https://localhost:8080/"
        },
        "id": "awA2r6tKj0q6",
        "outputId": "c41eeb37-3aa1-4397-b2b7-8b8295b2bb44"
      },
      "execution_count": 44,
      "outputs": [
        {
          "output_type": "execute_result",
          "data": {
            "text/plain": [
              "array([['101', 'Mohan', '250.5', '2023-08-01'],\n",
              "       ['102', 'Bob', '150.0', '2023-08-02'],\n",
              "       ['103', 'Fatima', '300.75', '2023-08-01'],\n",
              "       ['104', 'David', '400.2', '2023-08-03'],\n",
              "       ['105', 'Aryan', '330.1', '2023-08-04']], dtype='<U32')"
            ]
          },
          "metadata": {},
          "execution_count": 44
        }
      ]
    },
    {
      "cell_type": "code",
      "source": [
        "# in order to find the maximum transaction amount from this table\n",
        "t_index = np.argmax(transactions[:,2].astype(float))"
      ],
      "metadata": {
        "id": "J6Cdpo-SkRGV"
      },
      "execution_count": 45,
      "outputs": []
    },
    {
      "cell_type": "code",
      "source": [
        "transactions[t_index]"
      ],
      "metadata": {
        "colab": {
          "base_uri": "https://localhost:8080/"
        },
        "id": "xNZn7zWvkf5E",
        "outputId": "43984388-d277-4d61-a1c2-e9304db4c252"
      },
      "execution_count": 46,
      "outputs": [
        {
          "output_type": "execute_result",
          "data": {
            "text/plain": [
              "array(['104', 'David', '400.2', '2023-08-03'], dtype='<U32')"
            ]
          },
          "metadata": {},
          "execution_count": 46
        }
      ]
    },
    {
      "cell_type": "markdown",
      "source": [
        "# Exercise"
      ],
      "metadata": {
        "id": "PSTTO3OZmEeA"
      }
    },
    {
      "cell_type": "markdown",
      "source": [
        "At **AtliQ**, a software service company, the **HR team** wants to understand how happy employees are with company policies and how long they've been with the company. This survey aims to help HR improve the work environment and keep employees satisfied.\n",
        "\n",
        "**Data Structure:** Two numpy arrays capture survey results and employee details:\n",
        "\n",
        "**Employee Details:** Contains Employee ID, Department, and Number of Years with AtliQ.\n",
        "\n",
        "**Survey Results:** Contains Employee ID and Happiness Score (scaled 1-10)."
      ],
      "metadata": {
        "id": "PZIq3NsrmISu"
      }
    },
    {
      "cell_type": "code",
      "source": [
        "import numpy as np\n",
        "\n",
        "# Employee Details: Employee ID, Department, Number of Years with AtliQ\n",
        "employee_details = np.array([\n",
        "    [101, 'Sales', 3],\n",
        "    [102, 'HR', 5],\n",
        "    [103, 'IT', 2],\n",
        "    [104, 'Sales', 8],\n",
        "    [105, 'IT', 6],\n",
        "    [106, 'HR', 4],\n",
        "    [107, 'IT', 7],\n",
        "    [108, 'Sales', 1],\n",
        "    [109, 'HR', 3]\n",
        "])\n",
        "\n",
        "# Survey Results: Employee ID, Happiness Score (1-10)\n",
        "survey_results = np.array([\n",
        "    [101, 8],\n",
        "    [102, 10],\n",
        "    [103, 9],\n",
        "    [104, 6],\n",
        "    [105, 7],\n",
        "    [106, 8],\n",
        "    [107, 9],\n",
        "    [108, 5],\n",
        "    [109, 7]\n",
        "])"
      ],
      "metadata": {
        "id": "c1ZMjXa7kodw"
      },
      "execution_count": 47,
      "outputs": []
    },
    {
      "cell_type": "markdown",
      "source": [
        "### Task 1: Merge Arrays\n",
        "\n",
        "**Scenario:** To streamline analysis, combine the employee details with their survey results.\n",
        "\n",
        "**Action:** Use ```np.hstack``` to horizontally stack the two arrays."
      ],
      "metadata": {
        "id": "gjsk06FNmQgV"
      }
    },
    {
      "cell_type": "code",
      "source": [
        "merged = np.hstack((employee_details, survey_results))\n",
        "merged"
      ],
      "metadata": {
        "colab": {
          "base_uri": "https://localhost:8080/"
        },
        "id": "TAIVFrTPmMET",
        "outputId": "5ceed3f0-bf8a-4e42-c61e-3c392621c3d4"
      },
      "execution_count": 48,
      "outputs": [
        {
          "output_type": "execute_result",
          "data": {
            "text/plain": [
              "array([['101', 'Sales', '3', '101', '8'],\n",
              "       ['102', 'HR', '5', '102', '10'],\n",
              "       ['103', 'IT', '2', '103', '9'],\n",
              "       ['104', 'Sales', '8', '104', '6'],\n",
              "       ['105', 'IT', '6', '105', '7'],\n",
              "       ['106', 'HR', '4', '106', '8'],\n",
              "       ['107', 'IT', '7', '107', '9'],\n",
              "       ['108', 'Sales', '1', '108', '5'],\n",
              "       ['109', 'HR', '3', '109', '7']], dtype='<U21')"
            ]
          },
          "metadata": {},
          "execution_count": 48
        }
      ]
    },
    {
      "cell_type": "markdown",
      "source": [
        "### Task 2: Print Scores\n",
        "\n",
        "**Scenario:** HR wants a quick view of all happiness scores to gauge overall employee sentiment.\n",
        "\n",
        "**Action:** Display all happiness scores from the merged array."
      ],
      "metadata": {
        "id": "-UIbdLvamWP8"
      }
    },
    {
      "cell_type": "code",
      "source": [
        "merged[:,4]"
      ],
      "metadata": {
        "colab": {
          "base_uri": "https://localhost:8080/"
        },
        "id": "oXRhEF9YmTb-",
        "outputId": "1f0563c7-20e8-4ce2-a640-7d3b75284edf"
      },
      "execution_count": 49,
      "outputs": [
        {
          "output_type": "execute_result",
          "data": {
            "text/plain": [
              "array(['8', '10', '9', '6', '7', '8', '9', '5', '7'], dtype='<U21')"
            ]
          },
          "metadata": {},
          "execution_count": 49
        }
      ]
    },
    {
      "cell_type": "markdown",
      "source": [
        "### Task 3: Sort Scores\n",
        "\n",
        "**Scenario:** HR needs to identify the range of happiness scores to plan specific interventions.\n",
        "\n",
        "**Action:** Sort and print the happiness scores in ascending order."
      ],
      "metadata": {
        "id": "ihHk0QmVmbaL"
      }
    },
    {
      "cell_type": "code",
      "source": [
        "np.sort(merged[:,4])"
      ],
      "metadata": {
        "colab": {
          "base_uri": "https://localhost:8080/"
        },
        "id": "W0OUC0jemY2_",
        "outputId": "fa1f1411-6a03-4c9d-e907-866d2ff22a01"
      },
      "execution_count": 50,
      "outputs": [
        {
          "output_type": "execute_result",
          "data": {
            "text/plain": [
              "array(['10', '5', '6', '7', '7', '8', '8', '9', '9'], dtype='<U21')"
            ]
          },
          "metadata": {},
          "execution_count": 50
        }
      ]
    },
    {
      "cell_type": "markdown",
      "source": [
        "### Task 4: Employee Details\n",
        "\n",
        "**Scenario:** For a meeting, HR needs a list of employees' IDs and departments without other details.\n",
        "\n",
        "**Action:** Iterate through the array and print each employee's ID and department."
      ],
      "metadata": {
        "id": "2LNVLwC1mgbC"
      }
    },
    {
      "cell_type": "code",
      "source": [
        "for row in merged:\n",
        "    print(f'ID: {row[0]}, Department: {row[1]}')"
      ],
      "metadata": {
        "colab": {
          "base_uri": "https://localhost:8080/"
        },
        "id": "iDBcieTgmeJD",
        "outputId": "6391ad4d-12e2-4d52-aff6-2251c2b47b5e"
      },
      "execution_count": 51,
      "outputs": [
        {
          "output_type": "stream",
          "name": "stdout",
          "text": [
            "ID: 101, Department: Sales\n",
            "ID: 102, Department: HR\n",
            "ID: 103, Department: IT\n",
            "ID: 104, Department: Sales\n",
            "ID: 105, Department: IT\n",
            "ID: 106, Department: HR\n",
            "ID: 107, Department: IT\n",
            "ID: 108, Department: Sales\n",
            "ID: 109, Department: HR\n"
          ]
        }
      ]
    },
    {
      "cell_type": "markdown",
      "source": [
        "### Task 5: Happiness Scores\n",
        "\n",
        "**Scenario:** HR wants to review individual happiness scores to follow up with specific departments or employees.\n",
        "\n",
        "**Action:** Print the happiness score alongside each employee ID from the merged array."
      ],
      "metadata": {
        "id": "-IHMvEqImlsk"
      }
    },
    {
      "cell_type": "code",
      "source": [
        "for row in merged:\n",
        "    print(f'ID: {row[0]}, Happiness Score: {row[4]}')"
      ],
      "metadata": {
        "colab": {
          "base_uri": "https://localhost:8080/"
        },
        "id": "pIPCTZUjmjDu",
        "outputId": "e9f660a9-ec5a-458a-8472-04a5db0e2bb4"
      },
      "execution_count": 52,
      "outputs": [
        {
          "output_type": "stream",
          "name": "stdout",
          "text": [
            "ID: 101, Happiness Score: 8\n",
            "ID: 102, Happiness Score: 10\n",
            "ID: 103, Happiness Score: 9\n",
            "ID: 104, Happiness Score: 6\n",
            "ID: 105, Happiness Score: 7\n",
            "ID: 106, Happiness Score: 8\n",
            "ID: 107, Happiness Score: 9\n",
            "ID: 108, Happiness Score: 5\n",
            "ID: 109, Happiness Score: 7\n"
          ]
        }
      ]
    },
    {
      "cell_type": "markdown",
      "source": [
        "### Task 6: Convert Scores\n",
        "\n",
        "**Scenario:** For statistical analysis, the HR team needs the happiness scores in a consistent format.\n",
        "\n",
        "**Action:** Convert the happiness scores to float type using ```astype(float)```."
      ],
      "metadata": {
        "id": "FI0uXbl3mr7V"
      }
    },
    {
      "cell_type": "code",
      "source": [
        "merged[:,4].astype(float)"
      ],
      "metadata": {
        "colab": {
          "base_uri": "https://localhost:8080/"
        },
        "id": "5V3fN5_Bmozk",
        "outputId": "2724a6bf-c19a-4d82-8431-03abdc6c09d3"
      },
      "execution_count": 53,
      "outputs": [
        {
          "output_type": "execute_result",
          "data": {
            "text/plain": [
              "array([ 8., 10.,  9.,  6.,  7.,  8.,  9.,  5.,  7.])"
            ]
          },
          "metadata": {},
          "execution_count": 53
        }
      ]
    },
    {
      "cell_type": "markdown",
      "source": [
        "### Task 7: Average Score\n",
        "\n",
        "**Scenario:** To measure the effectiveness of current policies, HR needs the average happiness score.\n",
        "\n",
        "**Action:** Calculate and print the average happiness score of all employees."
      ],
      "metadata": {
        "id": "bvbVExp6mxKM"
      }
    },
    {
      "cell_type": "code",
      "source": [
        "np.mean(merged[:, 4].astype(float))"
      ],
      "metadata": {
        "colab": {
          "base_uri": "https://localhost:8080/"
        },
        "id": "xpqBWyU6musi",
        "outputId": "1dd04491-6674-49c1-9248-73a029bf2836"
      },
      "execution_count": 54,
      "outputs": [
        {
          "output_type": "execute_result",
          "data": {
            "text/plain": [
              "np.float64(7.666666666666667)"
            ]
          },
          "metadata": {},
          "execution_count": 54
        }
      ]
    },
    {
      "cell_type": "markdown",
      "source": [
        "### Task 8: Unique Departments\n",
        "\n",
        "**Scenario:** HR is reviewing which departments are represented in the survey to ensure all are included in future plans.\n",
        "\n",
        "**Action:** Use ```np.unique``` to find and print all unique departments from the employee details."
      ],
      "metadata": {
        "id": "4YhAi70Mm2C6"
      }
    },
    {
      "cell_type": "code",
      "source": [
        "# first printing departments from all the records\n",
        "merged[:,1]"
      ],
      "metadata": {
        "colab": {
          "base_uri": "https://localhost:8080/"
        },
        "id": "4OU3BBHZmzVK",
        "outputId": "3124db3b-ac1a-4ee2-8c10-47b6c19d031f"
      },
      "execution_count": 55,
      "outputs": [
        {
          "output_type": "execute_result",
          "data": {
            "text/plain": [
              "array(['Sales', 'HR', 'IT', 'Sales', 'IT', 'HR', 'IT', 'Sales', 'HR'],\n",
              "      dtype='<U21')"
            ]
          },
          "metadata": {},
          "execution_count": 55
        }
      ]
    },
    {
      "cell_type": "code",
      "source": [
        "# now printing unique departments\n",
        "np.unique(merged[:,1])"
      ],
      "metadata": {
        "colab": {
          "base_uri": "https://localhost:8080/"
        },
        "id": "s9atinFGm5nE",
        "outputId": "ea184bdb-a29d-49fe-8621-ccdaf03c5234"
      },
      "execution_count": 56,
      "outputs": [
        {
          "output_type": "execute_result",
          "data": {
            "text/plain": [
              "array(['HR', 'IT', 'Sales'], dtype='<U21')"
            ]
          },
          "metadata": {},
          "execution_count": 56
        }
      ]
    },
    {
      "cell_type": "markdown",
      "source": [
        "### Task 9: HR Happiness\n",
        "\n",
        "**Scenario:** HR is conducting a self-assessment to understand how their own department perceives company policies.\n",
        "\n",
        "**Action:** Calculate and print the average happiness score within the HR department."
      ],
      "metadata": {
        "id": "cEzdZd0fm_Qk"
      }
    },
    {
      "cell_type": "code",
      "source": [
        "# First printing all the records for HR department\n",
        "merged[merged[:,1]=='HR']"
      ],
      "metadata": {
        "colab": {
          "base_uri": "https://localhost:8080/"
        },
        "id": "o-VSkTS1m8Um",
        "outputId": "0f3dbc71-f3d8-4a8c-9401-94ff63fe943a"
      },
      "execution_count": 57,
      "outputs": [
        {
          "output_type": "execute_result",
          "data": {
            "text/plain": [
              "array([['102', 'HR', '5', '102', '10'],\n",
              "       ['106', 'HR', '4', '106', '8'],\n",
              "       ['109', 'HR', '3', '109', '7']], dtype='<U21')"
            ]
          },
          "metadata": {},
          "execution_count": 57
        }
      ]
    },
    {
      "cell_type": "code",
      "source": [
        "merged[merged[:,1]=='HR'][:,4].astype(float)"
      ],
      "metadata": {
        "colab": {
          "base_uri": "https://localhost:8080/"
        },
        "id": "J9tWNtfLnC0Q",
        "outputId": "919da80c-51a6-40fb-a9c2-ee02d6590313"
      },
      "execution_count": 58,
      "outputs": [
        {
          "output_type": "execute_result",
          "data": {
            "text/plain": [
              "array([10.,  8.,  7.])"
            ]
          },
          "metadata": {},
          "execution_count": 58
        }
      ]
    },
    {
      "cell_type": "code",
      "source": [
        "np.average(merged[merged[:,1]=='HR'][:,4].astype(float))"
      ],
      "metadata": {
        "colab": {
          "base_uri": "https://localhost:8080/"
        },
        "id": "6hluTbVCnFEk",
        "outputId": "0f196eed-16ba-4d6a-e12c-ca3879a8f2b8"
      },
      "execution_count": 59,
      "outputs": [
        {
          "output_type": "execute_result",
          "data": {
            "text/plain": [
              "np.float64(8.333333333333334)"
            ]
          },
          "metadata": {},
          "execution_count": 59
        }
      ]
    },
    {
      "cell_type": "code",
      "source": [],
      "metadata": {
        "id": "bvfsrzzInHQ8"
      },
      "execution_count": 59,
      "outputs": []
    }
  ]
}