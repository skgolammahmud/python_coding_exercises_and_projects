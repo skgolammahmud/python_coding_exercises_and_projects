{
  "nbformat": 4,
  "nbformat_minor": 0,
  "metadata": {
    "colab": {
      "provenance": []
    },
    "kernelspec": {
      "name": "python3",
      "display_name": "Python 3"
    },
    "language_info": {
      "name": "python"
    }
  },
  "cells": [
    {
      "cell_type": "markdown",
      "source": [
        "# Lists"
      ],
      "metadata": {
        "id": "W4XV-Sfvy1i_"
      }
    },
    {
      "cell_type": "code",
      "execution_count": 1,
      "metadata": {
        "colab": {
          "base_uri": "https://localhost:8080/"
        },
        "id": "m3D7QxyDxYjd",
        "outputId": "a83dbe90-15de-4855-f3dd-d06dc7d46df4"
      },
      "outputs": [
        {
          "output_type": "execute_result",
          "data": {
            "text/plain": [
              "['bread', 'pasta', 'fruits', 'veggie']"
            ]
          },
          "metadata": {},
          "execution_count": 1
        }
      ],
      "source": [
        "items = [\"bread\", \"pasta\", \"fruits\", \"veggie\"]\n",
        "items"
      ]
    },
    {
      "cell_type": "code",
      "source": [
        "items[1]"
      ],
      "metadata": {
        "colab": {
          "base_uri": "https://localhost:8080/",
          "height": 35
        },
        "id": "ZErksJjxyOiK",
        "outputId": "5d6d3bd5-aaa5-4eda-dab8-eff1f1f8dc98"
      },
      "execution_count": 2,
      "outputs": [
        {
          "output_type": "execute_result",
          "data": {
            "text/plain": [
              "'pasta'"
            ],
            "application/vnd.google.colaboratory.intrinsic+json": {
              "type": "string"
            }
          },
          "metadata": {},
          "execution_count": 2
        }
      ]
    },
    {
      "cell_type": "code",
      "source": [
        "items[0:2]"
      ],
      "metadata": {
        "colab": {
          "base_uri": "https://localhost:8080/"
        },
        "id": "WNRougAJyRdn",
        "outputId": "5c76c452-7ae6-4d1c-ec0e-fc12e83aa346"
      },
      "execution_count": 3,
      "outputs": [
        {
          "output_type": "execute_result",
          "data": {
            "text/plain": [
              "['bread', 'pasta']"
            ]
          },
          "metadata": {},
          "execution_count": 3
        }
      ]
    },
    {
      "cell_type": "code",
      "source": [
        "# in order to add something to the list\n",
        "items.append(\"butter\")\n",
        "items"
      ],
      "metadata": {
        "colab": {
          "base_uri": "https://localhost:8080/"
        },
        "id": "3yFJtDK8yhn3",
        "outputId": "094bc428-f5ef-4574-9b82-b23439d35381"
      },
      "execution_count": 4,
      "outputs": [
        {
          "output_type": "execute_result",
          "data": {
            "text/plain": [
              "['bread', 'pasta', 'fruits', 'veggie', 'butter']"
            ]
          },
          "metadata": {},
          "execution_count": 4
        }
      ]
    },
    {
      "cell_type": "code",
      "source": [
        "# in order to remove something from the list\n",
        "items.remove(\"butter\")\n",
        "items"
      ],
      "metadata": {
        "colab": {
          "base_uri": "https://localhost:8080/"
        },
        "id": "PjDXwGY2yygB",
        "outputId": "90f00cbe-be8a-4281-a949-cb806bb70ec0"
      },
      "execution_count": 5,
      "outputs": [
        {
          "output_type": "execute_result",
          "data": {
            "text/plain": [
              "['bread', 'pasta', 'fruits', 'veggie']"
            ]
          },
          "metadata": {},
          "execution_count": 5
        }
      ]
    },
    {
      "cell_type": "code",
      "source": [
        "# in order to insert in specific location\n",
        "items.insert(1, \"butter\")\n",
        "items"
      ],
      "metadata": {
        "colab": {
          "base_uri": "https://localhost:8080/"
        },
        "id": "qdbOiwA0zRW5",
        "outputId": "1b5c1a6d-d1e5-4962-bb27-414a1680ac16"
      },
      "execution_count": 6,
      "outputs": [
        {
          "output_type": "execute_result",
          "data": {
            "text/plain": [
              "['bread', 'butter', 'pasta', 'fruits', 'veggie']"
            ]
          },
          "metadata": {},
          "execution_count": 6
        }
      ]
    },
    {
      "cell_type": "code",
      "source": [
        "# in order to change a value\n",
        "# string values are immutable, but lists are mutable\n",
        "items[0] = \"chips\"\n",
        "items"
      ],
      "metadata": {
        "colab": {
          "base_uri": "https://localhost:8080/"
        },
        "id": "HTpqkeQ5zadf",
        "outputId": "b267d9cb-b987-4e2f-e29f-ca1170af161e"
      },
      "execution_count": 7,
      "outputs": [
        {
          "output_type": "execute_result",
          "data": {
            "text/plain": [
              "['chips', 'butter', 'pasta', 'fruits', 'veggie']"
            ]
          },
          "metadata": {},
          "execution_count": 7
        }
      ]
    },
    {
      "cell_type": "code",
      "source": [
        "# in order to replace 2 values with 1 value\n",
        "items[0:2] = [\"almonds\"]\n",
        "items"
      ],
      "metadata": {
        "colab": {
          "base_uri": "https://localhost:8080/"
        },
        "id": "cd0UAq000CML",
        "outputId": "3464c71e-5a68-462a-abe0-5dd4b1f72bb1"
      },
      "execution_count": 8,
      "outputs": [
        {
          "output_type": "execute_result",
          "data": {
            "text/plain": [
              "['almonds', 'pasta', 'fruits', 'veggie']"
            ]
          },
          "metadata": {},
          "execution_count": 8
        }
      ]
    },
    {
      "cell_type": "code",
      "source": [
        "# in order to find a value is present on not\n",
        "\"rice\" in items"
      ],
      "metadata": {
        "colab": {
          "base_uri": "https://localhost:8080/"
        },
        "id": "-YfXZENM0a6B",
        "outputId": "3ec11a8c-5966-41e4-c28a-1946c8367020"
      },
      "execution_count": 9,
      "outputs": [
        {
          "output_type": "execute_result",
          "data": {
            "text/plain": [
              "False"
            ]
          },
          "metadata": {},
          "execution_count": 9
        }
      ]
    },
    {
      "cell_type": "code",
      "source": [
        "# in order to sort a list\n",
        "expenses = [200, 1500, 150, 1300]\n",
        "expenses.sort()\n",
        "expenses"
      ],
      "metadata": {
        "colab": {
          "base_uri": "https://localhost:8080/"
        },
        "id": "HYYG9fYc0vJj",
        "outputId": "09524922-43ce-42d4-a56f-69fffa494a29"
      },
      "execution_count": 10,
      "outputs": [
        {
          "output_type": "execute_result",
          "data": {
            "text/plain": [
              "[150, 200, 1300, 1500]"
            ]
          },
          "metadata": {},
          "execution_count": 10
        }
      ]
    },
    {
      "cell_type": "code",
      "source": [
        "# reverse sort\n",
        "expenses.sort(reverse=True)\n",
        "expenses"
      ],
      "metadata": {
        "colab": {
          "base_uri": "https://localhost:8080/"
        },
        "id": "ORbs4pHA1EgE",
        "outputId": "c5bf80d2-9a12-4476-c0cb-959a02806f8c"
      },
      "execution_count": 11,
      "outputs": [
        {
          "output_type": "execute_result",
          "data": {
            "text/plain": [
              "[1500, 1300, 200, 150]"
            ]
          },
          "metadata": {},
          "execution_count": 11
        }
      ]
    },
    {
      "cell_type": "code",
      "source": [
        "# combine multiple lists\n",
        "food_items = [\"bread\", \"pasta\", \"fruits\"]\n",
        "bathroom_items = [\"shampoo\", \"soap\"]\n",
        "items = food_items + bathroom_items\n",
        "items"
      ],
      "metadata": {
        "colab": {
          "base_uri": "https://localhost:8080/"
        },
        "id": "5_XadoRh1Pjj",
        "outputId": "cd06f232-cc11-4a17-bd1c-ba536176e39a"
      },
      "execution_count": 12,
      "outputs": [
        {
          "output_type": "execute_result",
          "data": {
            "text/plain": [
              "['bread', 'pasta', 'fruits', 'shampoo', 'soap']"
            ]
          },
          "metadata": {},
          "execution_count": 12
        }
      ]
    },
    {
      "cell_type": "code",
      "source": [
        "# length of items\n",
        "len(items)"
      ],
      "metadata": {
        "colab": {
          "base_uri": "https://localhost:8080/"
        },
        "id": "DOckJt6i1ohg",
        "outputId": "fa339d2f-7cbc-4594-c6aa-e71948b9043d"
      },
      "execution_count": 13,
      "outputs": [
        {
          "output_type": "execute_result",
          "data": {
            "text/plain": [
              "5"
            ]
          },
          "metadata": {},
          "execution_count": 13
        }
      ]
    },
    {
      "cell_type": "markdown",
      "source": [
        "# if condition"
      ],
      "metadata": {
        "id": "uUeXituS21BX"
      }
    },
    {
      "cell_type": "code",
      "source": [
        "n = input(\"Enter a number: \")\n",
        "\n",
        "if int(n) % 2 == 0:\n",
        "    print(\"Number is even\")\n",
        "else:\n",
        "    print(\"Number is odd\")"
      ],
      "metadata": {
        "colab": {
          "base_uri": "https://localhost:8080/"
        },
        "id": "WoQPtdCy1wGq",
        "outputId": "ae4b5872-149b-4eee-fff8-1e671461ca8d"
      },
      "execution_count": 14,
      "outputs": [
        {
          "output_type": "stream",
          "name": "stdout",
          "text": [
            "Enter a number: 1\n",
            "Number is odd\n"
          ]
        }
      ]
    },
    {
      "cell_type": "code",
      "source": [
        "# another way to write if condition\n",
        "n = input(\"Enter a number: \")\n",
        "\n",
        "message = \"Number is even\" if int(n) % 2 == 0 else \"Number is odd\"\n",
        "print(message)"
      ],
      "metadata": {
        "colab": {
          "base_uri": "https://localhost:8080/"
        },
        "id": "n9I4zJxd3Z5U",
        "outputId": "7198a4f6-c82b-4285-b07e-e3f31c3dfb86"
      },
      "execution_count": 15,
      "outputs": [
        {
          "output_type": "stream",
          "name": "stdout",
          "text": [
            "Enter a number: 5\n",
            "Number is odd\n"
          ]
        }
      ]
    },
    {
      "cell_type": "code",
      "source": [
        "n = 10\n",
        "\n",
        "# multiple condition\n",
        "if n>0 and n%2 == 0:\n",
        "    print(\"n is a positive even number\")\n",
        "elif n>0 and n%2 != 0:\n",
        "    print(\"n is a positive odd number\")\n",
        "elif n<0:\n",
        "    print(\"n is a negative number\")"
      ],
      "metadata": {
        "colab": {
          "base_uri": "https://localhost:8080/"
        },
        "id": "rf6oyYgk5E29",
        "outputId": "94569f4a-bc42-45c0-dcd8-e8dbc6dbb6fd"
      },
      "execution_count": 16,
      "outputs": [
        {
          "output_type": "stream",
          "name": "stdout",
          "text": [
            "n is a positive even number\n"
          ]
        }
      ]
    },
    {
      "cell_type": "code",
      "source": [
        "indian = [\"'samosa\", \"daal\", \"naan\"]\n",
        "chinese = [\"egg role\", \"pot sticker\", \"fried rice\"]\n",
        "italian = [\"pizza\", \"pasta\", \"risotto\"]\n",
        "\n",
        "dish = input(\"Enter a dish name: \")\n",
        "\n",
        "if dish in indian:\n",
        "    print(\"Indian\")\n",
        "elif dish in chinese:\n",
        "    print(\"Chinese\")\n",
        "elif dish in italian:\n",
        "    print(\"Italian\")\n",
        "else:\n",
        "    print(\"I don't know\")"
      ],
      "metadata": {
        "colab": {
          "base_uri": "https://localhost:8080/"
        },
        "id": "ictShn_l-FUM",
        "outputId": "7681135a-b036-43da-85ef-0abd56470eeb"
      },
      "execution_count": 17,
      "outputs": [
        {
          "output_type": "stream",
          "name": "stdout",
          "text": [
            "Enter a dish name: samosa\n",
            "I don't know\n"
          ]
        }
      ]
    },
    {
      "cell_type": "markdown",
      "source": [
        "# for loop"
      ],
      "metadata": {
        "id": "17-c4Suq_iQN"
      }
    },
    {
      "cell_type": "code",
      "source": [
        "expenses = [1200,1300,1500,1700]\n",
        "\n",
        "total_expenses = 0\n",
        "\n",
        "for expense in expenses:\n",
        "  total_expenses += expense\n",
        "\n",
        "print(total_expenses)"
      ],
      "metadata": {
        "colab": {
          "base_uri": "https://localhost:8080/"
        },
        "id": "1fqnQMRx-_6X",
        "outputId": "2757832d-0aee-4146-fc38-7be39f191d48"
      },
      "execution_count": 18,
      "outputs": [
        {
          "output_type": "stream",
          "name": "stdout",
          "text": [
            "5700\n"
          ]
        }
      ]
    },
    {
      "cell_type": "code",
      "source": [
        "# zip\n",
        "a = [1,2,3]\n",
        "b = ['a','b','c']\n",
        "\n",
        "for x,y in zip(a,b):\n",
        "  print(x,y)"
      ],
      "metadata": {
        "colab": {
          "base_uri": "https://localhost:8080/"
        },
        "id": "uuwytzWmVyd2",
        "outputId": "e04bcb69-568b-4fcf-f3e0-3b08644ebdf3"
      },
      "execution_count": 19,
      "outputs": [
        {
          "output_type": "stream",
          "name": "stdout",
          "text": [
            "1 a\n",
            "2 b\n",
            "3 c\n"
          ]
        }
      ]
    },
    {
      "cell_type": "code",
      "source": [
        "monthly_sales = [42, 38, 33, 38, 40, 45]\n",
        "month = ['Jan', 'Feb', 'Mar', 'Apr', 'May', 'Jun']\n",
        "threshold = 35\n",
        "\n",
        "for sales_amount, month in zip(monthly_sales, month):\n",
        "  if sales_amount < threshold:\n",
        "    print(f\"Sales amount {sales_amount} is less than threshold in {month}\")\n",
        "    break # in order to stop the loop when less valued threshold found\n",
        "  else:\n",
        "    print(f\"Sales amount {sales_amount} is greater than threshold in {month}\")"
      ],
      "metadata": {
        "colab": {
          "base_uri": "https://localhost:8080/"
        },
        "id": "C-J4UHWBxDC7",
        "outputId": "173588c0-d5a1-477c-ff62-4f100ec4e689"
      },
      "execution_count": 20,
      "outputs": [
        {
          "output_type": "stream",
          "name": "stdout",
          "text": [
            "Sales amount 42 is greater than threshold in Jan\n",
            "Sales amount 38 is greater than threshold in Feb\n",
            "Sales amount 33 is less than threshold in Mar\n"
          ]
        }
      ]
    },
    {
      "cell_type": "code",
      "source": [
        "# while loop\n",
        "n = 0\n",
        "while n<10:\n",
        "  print(n)\n",
        "  n+=1"
      ],
      "metadata": {
        "colab": {
          "base_uri": "https://localhost:8080/"
        },
        "id": "yR6BpnHpxn76",
        "outputId": "44265181-b774-471d-8804-d557bcc048fe"
      },
      "execution_count": 21,
      "outputs": [
        {
          "output_type": "stream",
          "name": "stdout",
          "text": [
            "0\n",
            "1\n",
            "2\n",
            "3\n",
            "4\n",
            "5\n",
            "6\n",
            "7\n",
            "8\n",
            "9\n"
          ]
        }
      ]
    },
    {
      "cell_type": "code",
      "source": [
        "# continue\n",
        "# Printing all numbers from 1 to 10, except 5\n",
        "for i in range(1, 11):\n",
        "    if i == 5:\n",
        "        continue  # Skipping when i is 5\n",
        "    print(i)"
      ],
      "metadata": {
        "colab": {
          "base_uri": "https://localhost:8080/"
        },
        "id": "Z0EQrupdyhDf",
        "outputId": "4d453233-1bfb-427d-a0cd-4ca04f6bd481"
      },
      "execution_count": 22,
      "outputs": [
        {
          "output_type": "stream",
          "name": "stdout",
          "text": [
            "1\n",
            "2\n",
            "3\n",
            "4\n",
            "6\n",
            "7\n",
            "8\n",
            "9\n",
            "10\n"
          ]
        }
      ]
    },
    {
      "cell_type": "code",
      "source": [
        "products = [\"iPhone\", \"iPad\", \"Macbook\"]\n",
        "regions = [\"USA\", \"India\", \"UK\"]\n",
        "revenue = [10000, 20000, 30000, 40000, 50000, 34000]\n",
        "\n",
        "for product in products:\n",
        "  for region in regions:\n",
        "    for sales in revenue:\n",
        "      print(f\"Product: {product}, Region: {region}, Revenue: {sales}\")"
      ],
      "metadata": {
        "colab": {
          "base_uri": "https://localhost:8080/"
        },
        "id": "1eewrajEzBmQ",
        "outputId": "fbdd73fb-e895-452d-f0df-2408dffb63ac"
      },
      "execution_count": 23,
      "outputs": [
        {
          "output_type": "stream",
          "name": "stdout",
          "text": [
            "Product: iPhone, Region: USA, Revenue: 10000\n",
            "Product: iPhone, Region: USA, Revenue: 20000\n",
            "Product: iPhone, Region: USA, Revenue: 30000\n",
            "Product: iPhone, Region: USA, Revenue: 40000\n",
            "Product: iPhone, Region: USA, Revenue: 50000\n",
            "Product: iPhone, Region: USA, Revenue: 34000\n",
            "Product: iPhone, Region: India, Revenue: 10000\n",
            "Product: iPhone, Region: India, Revenue: 20000\n",
            "Product: iPhone, Region: India, Revenue: 30000\n",
            "Product: iPhone, Region: India, Revenue: 40000\n",
            "Product: iPhone, Region: India, Revenue: 50000\n",
            "Product: iPhone, Region: India, Revenue: 34000\n",
            "Product: iPhone, Region: UK, Revenue: 10000\n",
            "Product: iPhone, Region: UK, Revenue: 20000\n",
            "Product: iPhone, Region: UK, Revenue: 30000\n",
            "Product: iPhone, Region: UK, Revenue: 40000\n",
            "Product: iPhone, Region: UK, Revenue: 50000\n",
            "Product: iPhone, Region: UK, Revenue: 34000\n",
            "Product: iPad, Region: USA, Revenue: 10000\n",
            "Product: iPad, Region: USA, Revenue: 20000\n",
            "Product: iPad, Region: USA, Revenue: 30000\n",
            "Product: iPad, Region: USA, Revenue: 40000\n",
            "Product: iPad, Region: USA, Revenue: 50000\n",
            "Product: iPad, Region: USA, Revenue: 34000\n",
            "Product: iPad, Region: India, Revenue: 10000\n",
            "Product: iPad, Region: India, Revenue: 20000\n",
            "Product: iPad, Region: India, Revenue: 30000\n",
            "Product: iPad, Region: India, Revenue: 40000\n",
            "Product: iPad, Region: India, Revenue: 50000\n",
            "Product: iPad, Region: India, Revenue: 34000\n",
            "Product: iPad, Region: UK, Revenue: 10000\n",
            "Product: iPad, Region: UK, Revenue: 20000\n",
            "Product: iPad, Region: UK, Revenue: 30000\n",
            "Product: iPad, Region: UK, Revenue: 40000\n",
            "Product: iPad, Region: UK, Revenue: 50000\n",
            "Product: iPad, Region: UK, Revenue: 34000\n",
            "Product: Macbook, Region: USA, Revenue: 10000\n",
            "Product: Macbook, Region: USA, Revenue: 20000\n",
            "Product: Macbook, Region: USA, Revenue: 30000\n",
            "Product: Macbook, Region: USA, Revenue: 40000\n",
            "Product: Macbook, Region: USA, Revenue: 50000\n",
            "Product: Macbook, Region: USA, Revenue: 34000\n",
            "Product: Macbook, Region: India, Revenue: 10000\n",
            "Product: Macbook, Region: India, Revenue: 20000\n",
            "Product: Macbook, Region: India, Revenue: 30000\n",
            "Product: Macbook, Region: India, Revenue: 40000\n",
            "Product: Macbook, Region: India, Revenue: 50000\n",
            "Product: Macbook, Region: India, Revenue: 34000\n",
            "Product: Macbook, Region: UK, Revenue: 10000\n",
            "Product: Macbook, Region: UK, Revenue: 20000\n",
            "Product: Macbook, Region: UK, Revenue: 30000\n",
            "Product: Macbook, Region: UK, Revenue: 40000\n",
            "Product: Macbook, Region: UK, Revenue: 50000\n",
            "Product: Macbook, Region: UK, Revenue: 34000\n"
          ]
        }
      ]
    },
    {
      "cell_type": "code",
      "source": [
        "# else in for loop\n",
        "for i in range(5):\n",
        "  print(i)\n",
        "else:\n",
        "  print(\"For loop terminated\")"
      ],
      "metadata": {
        "colab": {
          "base_uri": "https://localhost:8080/"
        },
        "id": "z9x8jL972t0G",
        "outputId": "ddb511c8-6808-4d2e-c1c9-0a94d21936dd"
      },
      "execution_count": 24,
      "outputs": [
        {
          "output_type": "stream",
          "name": "stdout",
          "text": [
            "0\n",
            "1\n",
            "2\n",
            "3\n",
            "4\n",
            "For loop terminated\n"
          ]
        }
      ]
    },
    {
      "cell_type": "markdown",
      "source": [
        "# Exercise"
      ],
      "metadata": {
        "id": "-m5hbl1k5CGG"
      }
    },
    {
      "cell_type": "markdown",
      "source": [
        "### Task 1\n",
        "\n",
        "1. You are a Marvel fan and created a list of superheroes.\n",
        "\n",
        "```py\n",
        "avengers  = [‘Iron Man’, ‘Captain America’, ‘Black Widow’, ‘Hulk’, ‘Thor’, ‘Hawkeye’]\n",
        "```\n",
        "\n",
        "Using this list, calculate how many members in the Avengers team?"
      ],
      "metadata": {
        "id": "AawxmjdS5LT4"
      }
    },
    {
      "cell_type": "code",
      "source": [
        "avengers  = ['Iron Man', 'Captain America', 'Black Widow', 'Hulk', 'Thor', 'Hawkeye']\n",
        "len(avengers)"
      ],
      "metadata": {
        "colab": {
          "base_uri": "https://localhost:8080/"
        },
        "id": "g0SRiwrx3hKv",
        "outputId": "98aeeafa-d671-4f28-85b6-e117d2449f20"
      },
      "execution_count": 25,
      "outputs": [
        {
          "output_type": "execute_result",
          "data": {
            "text/plain": [
              "6"
            ]
          },
          "metadata": {},
          "execution_count": 25
        }
      ]
    },
    {
      "cell_type": "markdown",
      "source": [
        "### Task 2\n",
        "\n",
        "Awesome. Now Iron Man made Spider-Man a new member of the Avengers, add him to your list at the end"
      ],
      "metadata": {
        "id": "tN6T0yzM5hEI"
      }
    },
    {
      "cell_type": "code",
      "source": [
        "avengers.append('Spider-Man')\n",
        "avengers"
      ],
      "metadata": {
        "colab": {
          "base_uri": "https://localhost:8080/"
        },
        "id": "Ih2Ll9M25Y3x",
        "outputId": "5c5d29ce-4486-4d8c-98d4-8e8157dec5a8"
      },
      "execution_count": 26,
      "outputs": [
        {
          "output_type": "execute_result",
          "data": {
            "text/plain": [
              "['Iron Man',\n",
              " 'Captain America',\n",
              " 'Black Widow',\n",
              " 'Hulk',\n",
              " 'Thor',\n",
              " 'Hawkeye',\n",
              " 'Spider-Man']"
            ]
          },
          "metadata": {},
          "execution_count": 26
        }
      ]
    },
    {
      "cell_type": "markdown",
      "source": [
        "### Task 3\n",
        "\n",
        "Looks like you are loving this avengers exercise already😄, Let's add a twist to it. Everyone came to a conclusion that Captain America is the leader of the Avengers, so please add him before the Iron Man. Hint: You can first remove him from the list and add before the Iron Man. To remove him you can use a method called .pop()"
      ],
      "metadata": {
        "id": "IX8yomZW5u85"
      }
    },
    {
      "cell_type": "code",
      "source": [
        "avengers.pop(1)\n",
        "avengers.insert(0, \"Captain America\")\n",
        "avengers"
      ],
      "metadata": {
        "colab": {
          "base_uri": "https://localhost:8080/"
        },
        "id": "-4CCbTlP5oY_",
        "outputId": "ad42277b-4efe-49b5-c626-b6f3ad6c75d9"
      },
      "execution_count": 27,
      "outputs": [
        {
          "output_type": "execute_result",
          "data": {
            "text/plain": [
              "['Captain America',\n",
              " 'Iron Man',\n",
              " 'Black Widow',\n",
              " 'Hulk',\n",
              " 'Thor',\n",
              " 'Hawkeye',\n",
              " 'Spider-Man']"
            ]
          },
          "metadata": {},
          "execution_count": 27
        }
      ]
    },
    {
      "cell_type": "markdown",
      "source": [
        "### Task 4\n",
        "\n",
        "Thor and Hulk are getting angry easily and fight with each other. So you have to separate them with each other. To separate them, move “Black Widow” in between them."
      ],
      "metadata": {
        "id": "jJ39qmGV6sJH"
      }
    },
    {
      "cell_type": "code",
      "source": [
        "avengers.pop(2)\n",
        "avengers.insert(3, \"Black Widow\")\n",
        "avengers"
      ],
      "metadata": {
        "colab": {
          "base_uri": "https://localhost:8080/"
        },
        "id": "KS3k_-wM6JV2",
        "outputId": "c17553aa-f686-47f0-c51f-26d5322a11b5"
      },
      "execution_count": 28,
      "outputs": [
        {
          "output_type": "execute_result",
          "data": {
            "text/plain": [
              "['Captain America',\n",
              " 'Iron Man',\n",
              " 'Hulk',\n",
              " 'Black Widow',\n",
              " 'Thor',\n",
              " 'Hawkeye',\n",
              " 'Spider-Man']"
            ]
          },
          "metadata": {},
          "execution_count": 28
        }
      ]
    },
    {
      "cell_type": "markdown",
      "source": [
        "### Task 5\n",
        "\n",
        "Below list contains scores of students in a class as per their roll number. Which means the first element is for roll # 1, second one is for roll # 2 and so on. Print the scores of,\n",
        "\n",
        "1. The first student\n",
        "1. The last student\n",
        "1. First 3 students\n",
        "1. Scores of roll # 3, 4 and 5"
      ],
      "metadata": {
        "id": "6Z0SKVFI7ECQ"
      }
    },
    {
      "cell_type": "code",
      "source": [
        "scores = [92, 85, 76, 58, 89, 91, 73, 84]\n",
        "\n",
        "# First student\n",
        "print(\"First student's score:\", scores[0])\n",
        "\n",
        "# Last student\n",
        "print(\"Last student's score:\", scores[-1])\n",
        "\n",
        "# First 3 students\n",
        "print(\"First 3 students' scores:\", scores[:3])\n",
        "\n",
        "# Scores of roll #3, 4, and 5 (indices 2, 3, 4)\n",
        "print(\"Scores of roll #3, #4, #5:\", scores[2:5])"
      ],
      "metadata": {
        "colab": {
          "base_uri": "https://localhost:8080/"
        },
        "id": "DoKsrPBy6_0v",
        "outputId": "86c46792-4ed1-495f-abab-fde029f0bb1c"
      },
      "execution_count": 29,
      "outputs": [
        {
          "output_type": "stream",
          "name": "stdout",
          "text": [
            "First student's score: 92\n",
            "Last student's score: 84\n",
            "First 3 students' scores: [92, 85, 76]\n",
            "Scores of roll #3, #4, #5: [76, 58, 89]\n"
          ]
        }
      ]
    },
    {
      "cell_type": "markdown",
      "source": [
        "### Task 6\n",
        "\n",
        "We got a result of one more student which is 83 marks. Append this to the ```scores``` at the end and print the list"
      ],
      "metadata": {
        "id": "7rGokEqb7rMD"
      }
    },
    {
      "cell_type": "code",
      "source": [
        "scores.append(83)\n",
        "scores"
      ],
      "metadata": {
        "colab": {
          "base_uri": "https://localhost:8080/"
        },
        "id": "pEmF48Lf7llY",
        "outputId": "b6918dc3-10e9-47f8-c54c-730dee40a7fc"
      },
      "execution_count": 30,
      "outputs": [
        {
          "output_type": "execute_result",
          "data": {
            "text/plain": [
              "[92, 85, 76, 58, 89, 91, 73, 84, 83]"
            ]
          },
          "metadata": {},
          "execution_count": 30
        }
      ]
    },
    {
      "cell_type": "markdown",
      "source": [
        "### Task 7\n",
        "\n",
        "Categorizes each score into a grade based on the following thresholds:\n",
        "\n",
        "1. A: 90 to 100\n",
        "1. B: 80 to 89\n",
        "1. C: 70 to 79\n",
        "1. D: 60 to 69\n",
        "1. F: Below 60\n",
        "\n",
        "Count the number of students in each grade category and print the summary of how many students received each grade.\n",
        "\n",
        "Expected output\n",
        "\n",
        "```\n",
        "Grade Summary:\n",
        "- A: 2 students\n",
        "- B: 4 students\n",
        "- C: 2 students\n",
        "- D: 0 students\n",
        "- F: 1 students\n",
        "```"
      ],
      "metadata": {
        "id": "Dnz9yF_z8FLE"
      }
    },
    {
      "cell_type": "code",
      "source": [
        "grade_counts = {'A': 0, 'B': 0, 'C': 0, 'D': 0, 'F': 0}\n",
        "\n",
        "for score in scores:\n",
        "    if 90 <= score <= 100:\n",
        "        grade_counts['A'] += 1\n",
        "    elif 80 <= score <= 89:\n",
        "        grade_counts['B'] += 1\n",
        "    elif 70 <= score <= 79:\n",
        "        grade_counts['C'] += 1\n",
        "    elif 60 <= score <= 69:\n",
        "        grade_counts['D'] += 1\n",
        "    else:\n",
        "        grade_counts['F'] += 1\n",
        "\n",
        "\n",
        "\n",
        "print(\"Grade Summary:\")\n",
        "for grade, count in grade_counts.items():\n",
        "    print(f\"- {grade}: {count} students\")"
      ],
      "metadata": {
        "colab": {
          "base_uri": "https://localhost:8080/"
        },
        "id": "Ok9S-RZd7xtk",
        "outputId": "fd54f87b-e470-4cea-850e-9cc339a6b8f0"
      },
      "execution_count": 31,
      "outputs": [
        {
          "output_type": "stream",
          "name": "stdout",
          "text": [
            "Grade Summary:\n",
            "- A: 2 students\n",
            "- B: 4 students\n",
            "- C: 2 students\n",
            "- D: 0 students\n",
            "- F: 1 students\n"
          ]
        }
      ]
    },
    {
      "cell_type": "markdown",
      "source": [
        "### Task 8\n",
        "\n",
        "Managing inventory efficiently is crucial for businesses to ensure they do not run out of key products. This exercise simulates a simple inventory management system where the user can see which items are below the minimum stock level and need reordering. Below you have two lists that stores product names and their inventory stock levels.Using that,\n",
        "\n",
        "1. Check each item to see if its stock level is below a minimum threshold.\n",
        "1. If the stock level is below the minimum, add the product's name to a reorder list.\n",
        "1. Print a list of products that need to be reordered.\n",
        "\n",
        "Expected Output\n",
        "```\n",
        "Items to Reorder:\n",
        "- Pears\n",
        "- Grapes\n",
        "```"
      ],
      "metadata": {
        "id": "73lyg1Mf-i9o"
      }
    },
    {
      "cell_type": "code",
      "source": [
        "# Lists to store product names and stock levels\n",
        "product_names = [\"Apples\", \"Bananas\", \"Oranges\", \"Pears\", \"Grapes\"]\n",
        "stock_levels = [20, 50, 15, 5, 8]\n",
        "\n",
        "minimum_stock = 10  # Minimum stock before reordering\n",
        "\n",
        "# Creating a list to store items that need to be reordered\n",
        "reorder_list = []\n",
        "\n",
        "# Loop through each item and checking stock level\n",
        "for i in range(len(product_names)):\n",
        "    if stock_levels[i] < minimum_stock:\n",
        "        reorder_list.append(product_names[i])\n",
        "\n",
        "# Printing the result\n",
        "print(\"Items to Reorder:\")\n",
        "for item in reorder_list:\n",
        "    print(f\"- {item}\")\n"
      ],
      "metadata": {
        "colab": {
          "base_uri": "https://localhost:8080/"
        },
        "id": "_wZlsLHo-Z9W",
        "outputId": "34b179b4-0ed7-414d-cd6a-c88ebab3c5a1"
      },
      "execution_count": 32,
      "outputs": [
        {
          "output_type": "stream",
          "name": "stdout",
          "text": [
            "Items to Reorder:\n",
            "- Pears\n",
            "- Grapes\n"
          ]
        }
      ]
    },
    {
      "cell_type": "code",
      "source": [],
      "metadata": {
        "id": "gScLXMQo_LDQ"
      },
      "execution_count": 32,
      "outputs": []
    }
  ]
}