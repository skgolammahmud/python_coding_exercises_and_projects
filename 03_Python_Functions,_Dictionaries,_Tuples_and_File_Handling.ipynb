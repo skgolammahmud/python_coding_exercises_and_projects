{
  "nbformat": 4,
  "nbformat_minor": 0,
  "metadata": {
    "colab": {
      "provenance": []
    },
    "kernelspec": {
      "name": "python3",
      "display_name": "Python 3"
    },
    "language_info": {
      "name": "python"
    }
  },
  "cells": [
    {
      "cell_type": "code",
      "source": [
        "def find_total(expenses):\n",
        "    total = 0\n",
        "    for expense in expenses:\n",
        "        total += expense\n",
        "    return total"
      ],
      "metadata": {
        "id": "Hk5La0XhvrDO"
      },
      "execution_count": 1,
      "outputs": []
    },
    {
      "cell_type": "code",
      "source": [
        "expenses_sergey = [30, 45, 70, 90]\n",
        "expenses_sundar = [40, 23, 10, 85]\n",
        "\n",
        "Sergey_total = find_total(expenses_sergey)\n",
        "Sundar_total = find_total(expenses_sundar)\n",
        "\n",
        "print(Sergey_total)\n",
        "print(Sundar_total)"
      ],
      "metadata": {
        "colab": {
          "base_uri": "https://localhost:8080/"
        },
        "id": "23apJaYnUWZp",
        "outputId": "6ebf4d30-2716-49d4-9014-5b848ce10fbb"
      },
      "execution_count": 2,
      "outputs": [
        {
          "output_type": "stream",
          "name": "stdout",
          "text": [
            "235\n",
            "158\n"
          ]
        }
      ]
    },
    {
      "cell_type": "code",
      "source": [
        "# in order to make number of input flexible\n",
        "def sum_all(*args):\n",
        "    total = 0\n",
        "    for num in args:\n",
        "        total += num\n",
        "    return total"
      ],
      "metadata": {
        "id": "AZKpnzWlv8jg"
      },
      "execution_count": 3,
      "outputs": []
    },
    {
      "cell_type": "code",
      "source": [
        "sum_all(1, 2, 3, 4, 5)"
      ],
      "metadata": {
        "colab": {
          "base_uri": "https://localhost:8080/"
        },
        "id": "nbQjYtQMJz4s",
        "outputId": "fbe2312d-eeb7-4b8b-9a88-2599587cd2cc"
      },
      "execution_count": 4,
      "outputs": [
        {
          "output_type": "execute_result",
          "data": {
            "text/plain": [
              "15"
            ]
          },
          "metadata": {},
          "execution_count": 4
        }
      ]
    },
    {
      "cell_type": "code",
      "source": [
        "def company_info(**kwargs):\n",
        "    if 'ticker' in kwargs:\n",
        "      print(\"Ticker: \", kwargs['ticker'])\n",
        "    if 'ceo' in kwargs:\n",
        "      print(\"CEO: \", kwargs['ceo'])\n",
        "    if 'revenue' in kwargs:\n",
        "      print(\"Revenue: \", kwargs['revenue'])\n",
        "\n",
        "company_info(ticker='AAPL', ceo='Tim Cook', revenue='200 billion')"
      ],
      "metadata": {
        "colab": {
          "base_uri": "https://localhost:8080/"
        },
        "id": "t-ev65SpJ5F8",
        "outputId": "74b85ce0-d0ad-4b09-97e2-481a050e1633"
      },
      "execution_count": 5,
      "outputs": [
        {
          "output_type": "stream",
          "name": "stdout",
          "text": [
            "Ticker:  AAPL\n",
            "CEO:  Tim Cook\n",
            "Revenue:  200 billion\n"
          ]
        }
      ]
    },
    {
      "cell_type": "code",
      "source": [
        "def company_info(**kwargs):\n",
        "  for key in kwargs:\n",
        "    print(key, kwargs[key])\n",
        "\n",
        "company_info(ticker='AAPL', ceo='Tim Cook', revenue='200 billion', pe=20, pb=10.2)"
      ],
      "metadata": {
        "colab": {
          "base_uri": "https://localhost:8080/"
        },
        "id": "8jFcHZMaADjd",
        "outputId": "72f42f71-da94-4b02-879a-80f0ea878b58"
      },
      "execution_count": 6,
      "outputs": [
        {
          "output_type": "stream",
          "name": "stdout",
          "text": [
            "ticker AAPL\n",
            "ceo Tim Cook\n",
            "revenue 200 billion\n",
            "pe 20\n",
            "pb 10.2\n"
          ]
        }
      ]
    },
    {
      "cell_type": "code",
      "source": [
        "# lambda\n",
        "x = lambda a: a*a\n",
        "\n",
        "print(x(5))"
      ],
      "metadata": {
        "colab": {
          "base_uri": "https://localhost:8080/"
        },
        "id": "7JfweyI5DwT3",
        "outputId": "1ff71be3-c6d3-4d03-d354-9a5b15123136"
      },
      "execution_count": 7,
      "outputs": [
        {
          "output_type": "stream",
          "name": "stdout",
          "text": [
            "25\n"
          ]
        }
      ]
    },
    {
      "cell_type": "markdown",
      "source": [
        "# Dictionary and Tuples\n",
        "\n",
        "#### tuples are immutable\n",
        "#### dictionary is mutable"
      ],
      "metadata": {
        "id": "kd2TcarPGwl9"
      }
    },
    {
      "cell_type": "code",
      "source": [
        "# tuple\n",
        "point = (5,6)\n",
        "point[0]"
      ],
      "metadata": {
        "colab": {
          "base_uri": "https://localhost:8080/"
        },
        "id": "RD6_CgWWFbrW",
        "outputId": "635ab24c-53af-48b9-f734-77b09888e691"
      },
      "execution_count": 8,
      "outputs": [
        {
          "output_type": "execute_result",
          "data": {
            "text/plain": [
              "5"
            ]
          },
          "metadata": {},
          "execution_count": 8
        }
      ]
    },
    {
      "cell_type": "code",
      "source": [
        "type(point)"
      ],
      "metadata": {
        "colab": {
          "base_uri": "https://localhost:8080/"
        },
        "id": "tryhWJc8IuL_",
        "outputId": "b6b1a469-faba-42c7-c188-7a2d7e99568e"
      },
      "execution_count": 9,
      "outputs": [
        {
          "output_type": "execute_result",
          "data": {
            "text/plain": [
              "tuple"
            ]
          },
          "metadata": {},
          "execution_count": 9
        }
      ]
    },
    {
      "cell_type": "code",
      "source": [
        "# tuple\n",
        "contacts = [('rachel', 888877110), ('monica', 765511110), ('joey', 9999101111)]\n",
        "\n",
        "# in order to find someone's number:\n",
        "for contact in contacts:\n",
        "  if contact[0] == 'rachel':\n",
        "    print(contact[1])"
      ],
      "metadata": {
        "colab": {
          "base_uri": "https://localhost:8080/"
        },
        "id": "XpEFVG3sIy1l",
        "outputId": "d8754e45-5e6e-4581-88cc-a4fc7d5b81a4"
      },
      "execution_count": 10,
      "outputs": [
        {
          "output_type": "stream",
          "name": "stdout",
          "text": [
            "888877110\n"
          ]
        }
      ]
    },
    {
      "cell_type": "code",
      "source": [
        "# dictionary\n",
        "contacts = {'rachel': 888877110, 'monica': 765511110, 'joey': 9999101111}\n",
        "contacts['rachel']"
      ],
      "metadata": {
        "colab": {
          "base_uri": "https://localhost:8080/"
        },
        "id": "FJzfbBHV9ZxW",
        "outputId": "402c02a3-441b-4f73-b67f-1be92d92d6fc"
      },
      "execution_count": 11,
      "outputs": [
        {
          "output_type": "execute_result",
          "data": {
            "text/plain": [
              "888877110"
            ]
          },
          "metadata": {},
          "execution_count": 11
        }
      ]
    },
    {
      "cell_type": "code",
      "source": [
        "# update value of dictionary\n",
        "contacts['rachel'] = 1234567890\n",
        "contacts"
      ],
      "metadata": {
        "colab": {
          "base_uri": "https://localhost:8080/"
        },
        "id": "57KWAgw70bFb",
        "outputId": "91f7c130-41c9-4f67-d190-d680b5b4ea8c"
      },
      "execution_count": 12,
      "outputs": [
        {
          "output_type": "execute_result",
          "data": {
            "text/plain": [
              "{'rachel': 1234567890, 'monica': 765511110, 'joey': 9999101111}"
            ]
          },
          "metadata": {},
          "execution_count": 12
        }
      ]
    },
    {
      "cell_type": "code",
      "source": [
        "# add a value on dictionary\n",
        "contacts['ross'] = 1234567890\n",
        "contacts"
      ],
      "metadata": {
        "colab": {
          "base_uri": "https://localhost:8080/"
        },
        "id": "cowCm9-V0_3i",
        "outputId": "37025326-65f5-48fb-df75-460ee99d1540"
      },
      "execution_count": 13,
      "outputs": [
        {
          "output_type": "execute_result",
          "data": {
            "text/plain": [
              "{'rachel': 1234567890,\n",
              " 'monica': 765511110,\n",
              " 'joey': 9999101111,\n",
              " 'ross': 1234567890}"
            ]
          },
          "metadata": {},
          "execution_count": 13
        }
      ]
    },
    {
      "cell_type": "code",
      "source": [
        "# deleting a value of dictionary\n",
        "del contacts['ross']\n",
        "contacts"
      ],
      "metadata": {
        "colab": {
          "base_uri": "https://localhost:8080/"
        },
        "id": "KM_hvtcE1LYC",
        "outputId": "f3416eb9-8276-4206-c3a3-20df28ab6be2"
      },
      "execution_count": 14,
      "outputs": [
        {
          "output_type": "execute_result",
          "data": {
            "text/plain": [
              "{'rachel': 1234567890, 'monica': 765511110, 'joey': 9999101111}"
            ]
          },
          "metadata": {},
          "execution_count": 14
        }
      ]
    },
    {
      "cell_type": "code",
      "source": [
        "'rachel' in contacts"
      ],
      "metadata": {
        "colab": {
          "base_uri": "https://localhost:8080/"
        },
        "id": "cBbJbwvo1X2o",
        "outputId": "460ea6b1-e0a7-4fa5-96b2-919cbd4d9aed"
      },
      "execution_count": 15,
      "outputs": [
        {
          "output_type": "execute_result",
          "data": {
            "text/plain": [
              "True"
            ]
          },
          "metadata": {},
          "execution_count": 15
        }
      ]
    },
    {
      "cell_type": "code",
      "source": [
        "# nested dictionary\n",
        "contact_dict = {\n",
        "    'rachel' : {'phone': 888877110, 'email': 'james.francis.byrnes@example-pet-store.com'},\n",
        "    'monica' : {'phone': 765511110, 'email': 'william.henry.harrison@example-pet-store.com'},\n",
        "    'joey' : {'phone': 9999101111, 'email': 'james.buchanan@examplepetstore.com'}\n",
        "}\n",
        "contact_dict['rachel']['phone']"
      ],
      "metadata": {
        "colab": {
          "base_uri": "https://localhost:8080/"
        },
        "id": "T_GMe3yf1hBR",
        "outputId": "b97cabeb-a0d4-4490-892d-5ce141fab1fb"
      },
      "execution_count": 16,
      "outputs": [
        {
          "output_type": "execute_result",
          "data": {
            "text/plain": [
              "888877110"
            ]
          },
          "metadata": {},
          "execution_count": 16
        }
      ]
    },
    {
      "cell_type": "markdown",
      "source": [
        "# Modules and Pip"
      ],
      "metadata": {
        "id": "nf8btRig6-ql"
      }
    },
    {
      "cell_type": "code",
      "source": [
        "import calendar\n",
        "print(calendar.month(2025, 3))"
      ],
      "metadata": {
        "colab": {
          "base_uri": "https://localhost:8080/"
        },
        "id": "tH1CCUXK6-WM",
        "outputId": "0062af1d-7066-4769-e6d3-2d445561e9d8"
      },
      "execution_count": 17,
      "outputs": [
        {
          "output_type": "stream",
          "name": "stdout",
          "text": [
            "     March 2025\n",
            "Mo Tu We Th Fr Sa Su\n",
            "                1  2\n",
            " 3  4  5  6  7  8  9\n",
            "10 11 12 13 14 15 16\n",
            "17 18 19 20 21 22 23\n",
            "24 25 26 27 28 29 30\n",
            "31\n",
            "\n"
          ]
        }
      ]
    },
    {
      "cell_type": "code",
      "source": [
        "calendar.isleap(2025)"
      ],
      "metadata": {
        "colab": {
          "base_uri": "https://localhost:8080/"
        },
        "id": "-pqmA7na50NK",
        "outputId": "995d6abd-f099-41a7-db11-a3a708e15961"
      },
      "execution_count": 18,
      "outputs": [
        {
          "output_type": "execute_result",
          "data": {
            "text/plain": [
              "False"
            ]
          },
          "metadata": {},
          "execution_count": 18
        }
      ]
    },
    {
      "cell_type": "code",
      "source": [
        "import numpy as np\n",
        "q1 = np.array([\n",
        "    [1,2,3],\n",
        "    [4,5,6],\n",
        "    [7,8,9]\n",
        "])\n",
        "\n",
        "q2 = np.array([\n",
        "    [10,11,12],\n",
        "    [13,14,15],\n",
        "    [16,17,18]\n",
        "])\n",
        "\n",
        "q1 + q2"
      ],
      "metadata": {
        "colab": {
          "base_uri": "https://localhost:8080/"
        },
        "id": "Ym1pWtL_8DF3",
        "outputId": "a28c6b5c-34b6-47fc-a242-3d20809d66d9"
      },
      "execution_count": 19,
      "outputs": [
        {
          "output_type": "execute_result",
          "data": {
            "text/plain": [
              "array([[11, 13, 15],\n",
              "       [17, 19, 21],\n",
              "       [23, 25, 27]])"
            ]
          },
          "metadata": {},
          "execution_count": 19
        }
      ]
    },
    {
      "cell_type": "markdown",
      "source": [
        "# File handling"
      ],
      "metadata": {
        "id": "Ip1omiq3P8TB"
      }
    },
    {
      "cell_type": "markdown",
      "source": [
        "#### The key function for working with files in Python is the *open()* function. The *open()* function takes two parameters; **filename**, and **mode**.\n",
        "\n",
        "Here are four different methods (modes) for opening a file:\n",
        "  \n",
        "\n",
        "1.   \"p\" - Read - Default value. Opens a file for reading, error if the file does not exist.\n",
        "2.   \"a\" - Append - Opens a file for appending, creates the file if it does not exist.\n",
        "3.  \"w\" - Write - Opens a file for writing, creates the file if it does not exist.\n",
        "4.  \"X\" - Create - Creates the specified file, returns an error if the file exist.\n",
        "\n",
        "It is good practice to use the with keyword when dealing with file objects. The advantage is that the file is properly closed after its suite finishes, even if an exception is raised at some point."
      ],
      "metadata": {
        "id": "ZQKs7A7zmJqN"
      }
    },
    {
      "cell_type": "code",
      "source": [
        "from google.colab import drive\n",
        "drive.mount('/content/drive')"
      ],
      "metadata": {
        "colab": {
          "base_uri": "https://localhost:8080/"
        },
        "id": "sW7hpChvUGAq",
        "outputId": "ce574083-d53e-42e2-d72a-22e3201f901a"
      },
      "execution_count": 20,
      "outputs": [
        {
          "output_type": "stream",
          "name": "stdout",
          "text": [
            "Mounted at /content/drive\n"
          ]
        }
      ]
    },
    {
      "cell_type": "code",
      "source": [
        "f = open(\"/content/funny.txt\", \"r\")\n",
        "\n",
        "for line in f:\n",
        "  print(line)\n",
        "\n",
        "f.close()"
      ],
      "metadata": {
        "colab": {
          "base_uri": "https://localhost:8080/"
        },
        "id": "jxM_U-469IFQ",
        "outputId": "0d4483d5-b9db-4ded-df81-2e9a8fddf123"
      },
      "execution_count": 22,
      "outputs": [
        {
          "output_type": "stream",
          "name": "stdout",
          "text": [
            "Teacher: Why are you late, raghu?\n",
            "\n",
            "Raghu: Because of the sign\n",
            "\n",
            "Teacher: What sign?\n",
            "\n",
            "Raghu: The one that says \"School Ahead, Go slow\"\n"
          ]
        }
      ]
    },
    {
      "cell_type": "code",
      "source": [
        "with open(\"/content/funny.txt\", \"r\") as f:\n",
        "  for line in f:\n",
        "    print(line)\n",
        "\n",
        "# here no need to close"
      ],
      "metadata": {
        "colab": {
          "base_uri": "https://localhost:8080/"
        },
        "id": "EYyv2ylUSqp6",
        "outputId": "4ed02d90-69b9-4e5c-fb7d-102d7dc8afa6"
      },
      "execution_count": 23,
      "outputs": [
        {
          "output_type": "stream",
          "name": "stdout",
          "text": [
            "Teacher: Why are you late, raghu?\n",
            "\n",
            "Raghu: Because of the sign\n",
            "\n",
            "Teacher: What sign?\n",
            "\n",
            "Raghu: The one that says \"School Ahead, Go slow\"\n"
          ]
        }
      ]
    },
    {
      "cell_type": "code",
      "source": [
        "# in order to create a file\n",
        "with open('/love.txt', 'w') as f:\n",
        "  f.write('I love Python\\n')\n",
        "  f.write('I love Meditation')"
      ],
      "metadata": {
        "id": "E2EMFr2FS3YG"
      },
      "execution_count": 24,
      "outputs": []
    },
    {
      "cell_type": "code",
      "source": [
        "# append (means adding extra lines)\n",
        "with open('/love.txt', 'a') as f:\n",
        "  f.write('\\nI love Go-lang')\n",
        "  f.write('\\nI love Java')"
      ],
      "metadata": {
        "id": "wlzjxEcgYPWr"
      },
      "execution_count": 25,
      "outputs": []
    },
    {
      "cell_type": "code",
      "source": [
        "with open('love.txt', 'w') as f:\n",
        "  f.writelines([\n",
        "      \"I love Python\\n\",\n",
        "      \"I love Meditation\\n\"\n",
        "  ])"
      ],
      "metadata": {
        "id": "V15uu77QYptb"
      },
      "execution_count": 26,
      "outputs": []
    },
    {
      "cell_type": "code",
      "source": [
        "with open('/content/scores.csv', 'r') as f:\n",
        "  for line in f:\n",
        "    print(line)"
      ],
      "metadata": {
        "colab": {
          "base_uri": "https://localhost:8080/"
        },
        "id": "EoT26sGuPNlm",
        "outputId": "30c10833-d967-469b-da66-d4268d5a8fdb"
      },
      "execution_count": 27,
      "outputs": [
        {
          "output_type": "stream",
          "name": "stdout",
          "text": [
            "rohit,match#1,9\n",
            "\n",
            "shakib,match#2,56\n",
            "\n",
            "babar,match#3,56\n",
            "\n",
            "rohit,match#4,120\n",
            "\n",
            "rohit,match#5,105\n",
            "\n",
            "shakib,match#6,78\n",
            "\n",
            "rohit,match#7,140\n",
            "\n",
            "babar,match#8,45\n",
            "\n",
            "rohit,match#9,130\n",
            "\n",
            "shakib,match#10,102\n",
            "\n",
            "babar,match#11,120\n",
            "\n",
            "babar,match#12,5\n",
            "\n",
            "shakib,match#13,72\n",
            "\n",
            "babar,match#14,67\n",
            "\n"
          ]
        }
      ]
    },
    {
      "cell_type": "code",
      "source": [
        "with open('/content/scores.csv', 'r') as f:\n",
        "  for line in f:\n",
        "    player, _, score = line.split(',') # '_' used to ignore that value\n",
        "    print(player, score)"
      ],
      "metadata": {
        "colab": {
          "base_uri": "https://localhost:8080/"
        },
        "id": "93Fz3toaRLtL",
        "outputId": "4d48c2f7-f599-44f4-88ed-38e870a4f920"
      },
      "execution_count": 28,
      "outputs": [
        {
          "output_type": "stream",
          "name": "stdout",
          "text": [
            "rohit 9\n",
            "\n",
            "shakib 56\n",
            "\n",
            "babar 56\n",
            "\n",
            "rohit 120\n",
            "\n",
            "rohit 105\n",
            "\n",
            "shakib 78\n",
            "\n",
            "rohit 140\n",
            "\n",
            "babar 45\n",
            "\n",
            "rohit 130\n",
            "\n",
            "shakib 102\n",
            "\n",
            "babar 120\n",
            "\n",
            "babar 5\n",
            "\n",
            "shakib 72\n",
            "\n",
            "babar 67\n",
            "\n"
          ]
        }
      ]
    },
    {
      "cell_type": "code",
      "source": [
        "player_scores = {}\n",
        "\n",
        "with open('/content/scores.csv', 'r') as f:\n",
        "  for line in f:\n",
        "    player, _, score = line.split(',') # '_' used to ignore that value\n",
        "    score = int(score.strip())\n",
        "    if player in player_scores:\n",
        "      player_scores[player].append(score)\n",
        "    else:\n",
        "      player_scores[player] = [score]\n",
        "\n",
        "player_scores"
      ],
      "metadata": {
        "colab": {
          "base_uri": "https://localhost:8080/"
        },
        "id": "zAq0caYUioq0",
        "outputId": "0e5edca2-3721-4a98-b974-4e685387bc83"
      },
      "execution_count": 29,
      "outputs": [
        {
          "output_type": "execute_result",
          "data": {
            "text/plain": [
              "{'rohit': [9, 120, 105, 140, 130],\n",
              " 'shakib': [56, 78, 102, 72],\n",
              " 'babar': [56, 45, 120, 5, 67]}"
            ]
          },
          "metadata": {},
          "execution_count": 29
        }
      ]
    },
    {
      "cell_type": "code",
      "source": [
        "for player, scores in player_scores.items():\n",
        "  min_score = min(scores)\n",
        "  max_score = max(scores)\n",
        "  avg_score = sum(scores) / len(scores)\n",
        "  print(f'{player} ==> Min: {min_score}, Max: {max_score}, Avg: {avg_score}')"
      ],
      "metadata": {
        "colab": {
          "base_uri": "https://localhost:8080/"
        },
        "id": "LZYc-d-kkL8B",
        "outputId": "6389c961-a473-4518-baaa-74fcf297dcec"
      },
      "execution_count": 30,
      "outputs": [
        {
          "output_type": "stream",
          "name": "stdout",
          "text": [
            "rohit ==> Min: 9, Max: 140, Avg: 100.8\n",
            "shakib ==> Min: 56, Max: 102, Avg: 77.0\n",
            "babar ==> Min: 5, Max: 120, Avg: 58.6\n"
          ]
        }
      ]
    },
    {
      "cell_type": "code",
      "source": [
        "# delete file\n",
        "with open(\"dummy.txt\", 'w') as f:\n",
        "  f.write(\"I am a dummy file\")\n",
        "\n",
        "import os\n",
        "if os.path.exists('dummy.txt'):\n",
        "  os.remove('dummy.txt')\n",
        "else:\n",
        "  print('The file does not exist')"
      ],
      "metadata": {
        "id": "vd7PxrvmkpA9"
      },
      "execution_count": 31,
      "outputs": []
    },
    {
      "cell_type": "markdown",
      "source": [
        "# Exercise"
      ],
      "metadata": {
        "id": "MVXRNt-1npqV"
      }
    },
    {
      "cell_type": "markdown",
      "source": [
        "### Task 1\n",
        "\n",
        "You are given a file called ```customers.txt``` that contains the name of the customer and total amount they spent. Read this file line by line and save the customer name and total amount in a dictionary.\n",
        "\n",
        "For example, customers.txt file will content the data in the following format,\n",
        "```\n",
        "Srinivas,120\n",
        "John,250\n",
        "Maria,150\n",
        "Smith,510\n",
        "Anjali,45\n",
        "```\n",
        "\n",
        "You will read this and build a dictionary like this,\n",
        "```\n",
        "{\n",
        "    \"Srinivas\": 120,\n",
        "    \"John\": 250,\n",
        "    \"Maria\": 150,\n",
        "    \"Smith\": 510,\n",
        "    \"Anjali\": 45\n",
        "}\n",
        "```"
      ],
      "metadata": {
        "id": "7_uUCY3fn58E"
      }
    },
    {
      "cell_type": "code",
      "source": [
        "customers_dict = {}\n",
        "\n",
        "with open(\"/content/customers.txt\", \"r\") as f:\n",
        "    for line in f:\n",
        "        customer_name, total_amount = line.strip().split(\",\")\n",
        "        total_amount = int(total_amount)\n",
        "        customers_dict[customer_name] = total_amount\n",
        "customers_dict"
      ],
      "metadata": {
        "id": "fhbgG9Ncluy3",
        "colab": {
          "base_uri": "https://localhost:8080/"
        },
        "outputId": "69181692-85de-42b1-9eca-326ec1a66e93"
      },
      "execution_count": 32,
      "outputs": [
        {
          "output_type": "execute_result",
          "data": {
            "text/plain": [
              "{'Srinivas': 120,\n",
              " 'John': 250,\n",
              " 'Maria': 150,\n",
              " 'Smith': 510,\n",
              " 'Anjali': 45,\n",
              " 'Navin': 100,\n",
              " 'Santosh': 99}"
            ]
          },
          "metadata": {},
          "execution_count": 32
        }
      ]
    },
    {
      "cell_type": "markdown",
      "source": [
        "### Task 2\n",
        "\n",
        "The rewards levels are defined below based on the total purchase amount. Using this define a function called calculate_rewards that takes total as input and returns the reward.\n",
        "\n",
        "```\n",
        "1. Bronze: Total purchases $100-$199\n",
        "1. Silver: Total purchases $200-$499\n",
        "1. Gold: Total purchases $500+\n",
        "```"
      ],
      "metadata": {
        "id": "lIHXKvJ1oKbf"
      }
    },
    {
      "cell_type": "code",
      "source": [
        "def calculate_rewards(total):\n",
        "    if total >= 500:\n",
        "        return 'Gold'\n",
        "    elif total >= 200:\n",
        "        return 'Silver'\n",
        "    elif total >= 100:\n",
        "        return 'Bronze'\n",
        "    else:\n",
        "        return 'None'\n",
        "\n",
        "calculate_rewards(530)"
      ],
      "metadata": {
        "colab": {
          "base_uri": "https://localhost:8080/",
          "height": 35
        },
        "id": "wAn27ZB-oArg",
        "outputId": "f19c10d4-466c-4694-d1e8-d80d1a479fe8"
      },
      "execution_count": 33,
      "outputs": [
        {
          "output_type": "execute_result",
          "data": {
            "text/plain": [
              "'Gold'"
            ],
            "application/vnd.google.colaboratory.intrinsic+json": {
              "type": "string"
            }
          },
          "metadata": {},
          "execution_count": 33
        }
      ]
    },
    {
      "cell_type": "markdown",
      "source": [
        "\n",
        "### Task 3\n",
        "Now for each of the customers in our customers_dict, calculate the rewards and build a customers_summary dictionary that looks like the following, (key is the name of the customer and the value is a tuple containing total amount and rewards level)```{    'Srinivas': (120, 'Bronze'),    'John': (250, 'Silver'),    'Maria': (150,'Bronze'),    'Smith': (510, 'Gold'),    'Anjali': (45, 'None')}```"
      ],
      "metadata": {
        "id": "cZ0zgF-PoSIA"
      }
    },
    {
      "cell_type": "code",
      "source": [
        "customer_summary = {}\n",
        "for name, total in customers_dict.items():\n",
        "    rewards_level = calculate_rewards(total)\n",
        "    customer_summary[name] = (total, rewards_level)\n",
        "\n",
        "customer_summary"
      ],
      "metadata": {
        "colab": {
          "base_uri": "https://localhost:8080/"
        },
        "id": "jYD9dLcAoOi9",
        "outputId": "7a079759-1657-4311-b1f9-a99563009009"
      },
      "execution_count": 34,
      "outputs": [
        {
          "output_type": "execute_result",
          "data": {
            "text/plain": [
              "{'Srinivas': (120, 'Bronze'),\n",
              " 'John': (250, 'Silver'),\n",
              " 'Maria': (150, 'Bronze'),\n",
              " 'Smith': (510, 'Gold'),\n",
              " 'Anjali': (45, 'None'),\n",
              " 'Navin': (100, 'Bronze'),\n",
              " 'Santosh': (99, 'None')}"
            ]
          },
          "metadata": {},
          "execution_count": 34
        }
      ]
    },
    {
      "cell_type": "markdown",
      "source": [
        "### Task 4\n",
        "\n",
        "Now stitch all of the above code together and create a function that takes file name as input and returns the customer_summary dictionary.\n",
        "\n",
        "```\n",
        "def process_customer_data(file_name):\n",
        "    # return customer_summary dict\n",
        "```"
      ],
      "metadata": {
        "id": "GKhxWt4YojS2"
      }
    },
    {
      "cell_type": "code",
      "source": [
        "# Function to process customer data from file\n",
        "def process_customer_data(filename):\n",
        "    rewards_data = {}\n",
        "    with open(filename, \"r\") as f:\n",
        "        for line in f:\n",
        "            customer_name, total_amount = line.strip().split(\",\")\n",
        "            total_amount = int(total_amount)\n",
        "            customers_dict[customer_name] = total_amount\n",
        "\n",
        "    # Categorizing customers and prepare the summary\n",
        "    customer_summary = {}\n",
        "    for name, total in customers_dict.items():\n",
        "        rewards_level = calculate_rewards(total)\n",
        "        customer_summary[name] = (total, rewards_level)\n",
        "\n",
        "    return customer_summary\n",
        "\n",
        "process_customer_data(\"customers.txt\")"
      ],
      "metadata": {
        "colab": {
          "base_uri": "https://localhost:8080/"
        },
        "id": "I328QX0voZu6",
        "outputId": "6da5d22e-2896-416c-ceb7-80694c57bfc0"
      },
      "execution_count": 35,
      "outputs": [
        {
          "output_type": "execute_result",
          "data": {
            "text/plain": [
              "{'Srinivas': (120, 'Bronze'),\n",
              " 'John': (250, 'Silver'),\n",
              " 'Maria': (150, 'Bronze'),\n",
              " 'Smith': (510, 'Gold'),\n",
              " 'Anjali': (45, 'None'),\n",
              " 'Navin': (100, 'Bronze'),\n",
              " 'Santosh': (99, 'None')}"
            ]
          },
          "metadata": {},
          "execution_count": 35
        }
      ]
    },
    {
      "cell_type": "code",
      "source": [],
      "metadata": {
        "id": "J4IPtMXIopVQ"
      },
      "execution_count": 35,
      "outputs": []
    }
  ]
}