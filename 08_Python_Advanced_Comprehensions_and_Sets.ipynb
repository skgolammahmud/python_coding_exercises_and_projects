{
  "nbformat": 4,
  "nbformat_minor": 0,
  "metadata": {
    "colab": {
      "provenance": []
    },
    "kernelspec": {
      "name": "python3",
      "display_name": "Python 3"
    },
    "language_info": {
      "name": "python"
    }
  },
  "cells": [
    {
      "cell_type": "markdown",
      "source": [
        "# Set & Frozenset"
      ],
      "metadata": {
        "id": "zFzD_9YX2fWP"
      }
    },
    {
      "cell_type": "markdown",
      "source": [
        "#### Sets are mutable collections that only store unique elements and support efficient membership checks, additions, and deletions."
      ],
      "metadata": {
        "id": "o22rNRrJ1NCT"
      }
    },
    {
      "cell_type": "code",
      "execution_count": 1,
      "metadata": {
        "colab": {
          "base_uri": "https://localhost:8080/"
        },
        "id": "qGqMNxgZrS1P",
        "outputId": "8d62ef32-e5a6-476f-ea76-0064cea3988e"
      },
      "outputs": [
        {
          "output_type": "execute_result",
          "data": {
            "text/plain": [
              "{1, 2, 3, 4}"
            ]
          },
          "metadata": {},
          "execution_count": 1
        }
      ],
      "source": [
        "# set removes duplicate elements\n",
        "myset = set([1,2,2,3,3,3,4,4])\n",
        "myset"
      ]
    },
    {
      "cell_type": "code",
      "source": [
        "# another way to create a set\n",
        "myset = {1,1,2,3,3,3,4,4}\n",
        "myset"
      ],
      "metadata": {
        "colab": {
          "base_uri": "https://localhost:8080/"
        },
        "id": "Xh3JWcdAr4Va",
        "outputId": "a6f3a2ec-10c7-41d6-ec7e-ad8dace2e1f8"
      },
      "execution_count": 2,
      "outputs": [
        {
          "output_type": "execute_result",
          "data": {
            "text/plain": [
              "{1, 2, 3, 4}"
            ]
          },
          "metadata": {},
          "execution_count": 2
        }
      ]
    },
    {
      "cell_type": "markdown",
      "source": [
        "#### Both sets and frozensets support mathematical set operations like union, intersection, difference, and symmetric difference."
      ],
      "metadata": {
        "id": "fOcQzEBw1lbx"
      }
    },
    {
      "cell_type": "code",
      "source": [
        "# in order to add element\n",
        "myset.add(7)\n",
        "myset"
      ],
      "metadata": {
        "colab": {
          "base_uri": "https://localhost:8080/"
        },
        "id": "WvIvVXVdsYCG",
        "outputId": "188f67ac-b6eb-4a07-b326-6d147fc7bf29"
      },
      "execution_count": 3,
      "outputs": [
        {
          "output_type": "execute_result",
          "data": {
            "text/plain": [
              "{1, 2, 3, 4, 7}"
            ]
          },
          "metadata": {},
          "execution_count": 3
        }
      ]
    },
    {
      "cell_type": "code",
      "source": [
        "# in order to remove element\n",
        "myset.remove(1)\n",
        "myset"
      ],
      "metadata": {
        "colab": {
          "base_uri": "https://localhost:8080/"
        },
        "id": "UCgrTMQBweu0",
        "outputId": "0d38b632-9c82-40eb-bc9b-6ad8b4915499"
      },
      "execution_count": 4,
      "outputs": [
        {
          "output_type": "execute_result",
          "data": {
            "text/plain": [
              "{2, 3, 4, 7}"
            ]
          },
          "metadata": {},
          "execution_count": 4
        }
      ]
    },
    {
      "cell_type": "code",
      "source": [
        "# frozenset do not allow to add or remove anything from it\n",
        "a = frozenset([1,2,3,4])\n",
        "a"
      ],
      "metadata": {
        "colab": {
          "base_uri": "https://localhost:8080/"
        },
        "id": "cs2M35MhwpiP",
        "outputId": "bd5fa97d-0987-4b00-9578-755ec1fbed1b"
      },
      "execution_count": 5,
      "outputs": [
        {
          "output_type": "execute_result",
          "data": {
            "text/plain": [
              "frozenset({1, 2, 3, 4})"
            ]
          },
          "metadata": {},
          "execution_count": 5
        }
      ]
    },
    {
      "cell_type": "code",
      "source": [
        "# checking, if something belongs to the set\n",
        "4 in a"
      ],
      "metadata": {
        "colab": {
          "base_uri": "https://localhost:8080/"
        },
        "id": "M6DVRDDExErk",
        "outputId": "c1c846d9-d0f8-47d1-ab80-29139a059ae9"
      },
      "execution_count": 6,
      "outputs": [
        {
          "output_type": "execute_result",
          "data": {
            "text/plain": [
              "True"
            ]
          },
          "metadata": {},
          "execution_count": 6
        }
      ]
    },
    {
      "cell_type": "code",
      "source": [
        "transactions = [\n",
        "    {'customer_name': 'Mira', 'amount': 56, 'date':'2024-08-01'},\n",
        "    {'customer_name': 'Mira', 'amount': 12.3, 'date':'2024-09-05'},\n",
        "    {'customer_name': 'Mohan', 'amount': 21, 'date': '2024-09-03'},\n",
        "    {'customer_name': 'Mohan', 'amount': 36.8, 'date':'2024-09-10'},\n",
        "    {'customer_name': 'Lucy', 'amount': 66.3, 'date': '2024-09-10'},\n",
        "]"
      ],
      "metadata": {
        "id": "N8bGBAKexKQq"
      },
      "execution_count": 7,
      "outputs": []
    },
    {
      "cell_type": "code",
      "source": [
        "customers = set()\n",
        "\n",
        "for trans in transactions:\n",
        "    customers.add(trans['customer_name'])\n",
        "\n",
        "customers"
      ],
      "metadata": {
        "colab": {
          "base_uri": "https://localhost:8080/"
        },
        "id": "w9Pp8FNnymZu",
        "outputId": "59c1554b-e419-4a1a-9763-a1adf9e8c38d"
      },
      "execution_count": 8,
      "outputs": [
        {
          "output_type": "execute_result",
          "data": {
            "text/plain": [
              "{'Lucy', 'Mira', 'Mohan'}"
            ]
          },
          "metadata": {},
          "execution_count": 8
        }
      ]
    },
    {
      "cell_type": "markdown",
      "source": [
        "#### Set comprehensions work similarly to list comprehensions but produce a set, automatically removing duplicate elements during creation."
      ],
      "metadata": {
        "id": "70XeRCeRIh_-"
      }
    },
    {
      "cell_type": "code",
      "source": [
        "# alternative\n",
        "customers = {trans['customer_name'] for trans in transactions}\n",
        "customers"
      ],
      "metadata": {
        "colab": {
          "base_uri": "https://localhost:8080/"
        },
        "id": "17DrfTIMHJOS",
        "outputId": "796f6b33-ca0b-4c59-d99d-7227b74afd55"
      },
      "execution_count": 9,
      "outputs": [
        {
          "output_type": "execute_result",
          "data": {
            "text/plain": [
              "{'Lucy', 'Mira', 'Mohan'}"
            ]
          },
          "metadata": {},
          "execution_count": 9
        }
      ]
    },
    {
      "cell_type": "code",
      "source": [
        "# converting set to list\n",
        "customers_list = list(customers)\n",
        "customers_list"
      ],
      "metadata": {
        "colab": {
          "base_uri": "https://localhost:8080/"
        },
        "id": "0HAp2Bwvy2FW",
        "outputId": "c73094d2-6203-45ab-80e3-311476e50c93"
      },
      "execution_count": 10,
      "outputs": [
        {
          "output_type": "execute_result",
          "data": {
            "text/plain": [
              "['Mira', 'Mohan', 'Lucy']"
            ]
          },
          "metadata": {},
          "execution_count": 10
        }
      ]
    },
    {
      "cell_type": "markdown",
      "source": [
        "#### Both sets and frozensets support mathematical set operations like union, intersection, difference, and symmetric difference."
      ],
      "metadata": {
        "id": "gG9FiKU_1dXA"
      }
    },
    {
      "cell_type": "code",
      "source": [
        "# exploring common name\n",
        "a = {'Mira', 'Mohan', 'Lucy', 'Ahmed'}\n",
        "b = {'Chen', 'Mohan', 'Radha', 'Maria'}\n",
        "\n",
        "# 'and' operator will give common name\n",
        "a & b"
      ],
      "metadata": {
        "colab": {
          "base_uri": "https://localhost:8080/"
        },
        "id": "fqtYRAIhzK3f",
        "outputId": "deafe9a9-b5c4-4a97-afe6-51fb8476d162"
      },
      "execution_count": 11,
      "outputs": [
        {
          "output_type": "execute_result",
          "data": {
            "text/plain": [
              "{'Mohan'}"
            ]
          },
          "metadata": {},
          "execution_count": 11
        }
      ]
    },
    {
      "cell_type": "code",
      "source": [
        "# 'or' operator will give all name without repeat\n",
        "a | b"
      ],
      "metadata": {
        "colab": {
          "base_uri": "https://localhost:8080/"
        },
        "id": "ktFRb7JTzvZM",
        "outputId": "172e08f8-1ba2-46da-b00c-70fa1558ad79"
      },
      "execution_count": 12,
      "outputs": [
        {
          "output_type": "execute_result",
          "data": {
            "text/plain": [
              "{'Ahmed', 'Chen', 'Lucy', 'Maria', 'Mira', 'Mohan', 'Radha'}"
            ]
          },
          "metadata": {},
          "execution_count": 12
        }
      ]
    },
    {
      "cell_type": "code",
      "source": [
        "# instead of '&', I can use:\n",
        "a.intersection(b)"
      ],
      "metadata": {
        "colab": {
          "base_uri": "https://localhost:8080/"
        },
        "id": "o8IKEcMw0JQu",
        "outputId": "bdae8906-1efe-432d-ffb8-dd88c3604539"
      },
      "execution_count": 13,
      "outputs": [
        {
          "output_type": "execute_result",
          "data": {
            "text/plain": [
              "{'Mohan'}"
            ]
          },
          "metadata": {},
          "execution_count": 13
        }
      ]
    },
    {
      "cell_type": "code",
      "source": [
        "# instead of '|', I can use:\n",
        "a.union(b)"
      ],
      "metadata": {
        "colab": {
          "base_uri": "https://localhost:8080/"
        },
        "id": "QypLk_kj0cUm",
        "outputId": "bf296749-7127-4bfb-8dc8-e01f65d0c437"
      },
      "execution_count": 14,
      "outputs": [
        {
          "output_type": "execute_result",
          "data": {
            "text/plain": [
              "{'Ahmed', 'Chen', 'Lucy', 'Maria', 'Mira', 'Mohan', 'Radha'}"
            ]
          },
          "metadata": {},
          "execution_count": 14
        }
      ]
    },
    {
      "cell_type": "code",
      "source": [
        "# belongs in a only, but not in b\n",
        "a - b"
      ],
      "metadata": {
        "colab": {
          "base_uri": "https://localhost:8080/"
        },
        "id": "bP7Y--rt0isv",
        "outputId": "53f42920-fa7d-4df9-e864-747f0000b528"
      },
      "execution_count": 15,
      "outputs": [
        {
          "output_type": "execute_result",
          "data": {
            "text/plain": [
              "{'Ahmed', 'Lucy', 'Mira'}"
            ]
          },
          "metadata": {},
          "execution_count": 15
        }
      ]
    },
    {
      "cell_type": "markdown",
      "source": [
        "# Lists, Dict and Set Comprehensions"
      ],
      "metadata": {
        "id": "BWubVrWy212z"
      }
    },
    {
      "cell_type": "markdown",
      "source": [
        "#### List comprehensions provide a concise way to create lists by running a for loop in a single-line.\n",
        "\n",
        "#### Comprehensions are generally more readable and faster than using loops for building collections, making them a preferred choice for such tasks in Python.\n",
        "\n",
        "#### All comprehensions can include conditionals to filter elements, providing a powerful tool for creating customized collections efficiently."
      ],
      "metadata": {
        "id": "2nZmHAtvHsEw"
      }
    },
    {
      "cell_type": "code",
      "source": [
        "# all numbers from a list will be squared and will be saved in a list\n",
        "numbers=[1,2,3,4,5]\n",
        "sqr_numbers = []\n",
        "\n",
        "for n in numbers:\n",
        "  sqr_numbers.append(n*n)\n",
        "\n",
        "print(sqr_numbers)"
      ],
      "metadata": {
        "colab": {
          "base_uri": "https://localhost:8080/"
        },
        "id": "6DBxz4Y40umQ",
        "outputId": "7983f3ee-aa81-4116-ff1e-15550abeeb2a"
      },
      "execution_count": 16,
      "outputs": [
        {
          "output_type": "stream",
          "name": "stdout",
          "text": [
            "[1, 4, 9, 16, 25]\n"
          ]
        }
      ]
    },
    {
      "cell_type": "code",
      "source": [
        "# list comprehentions is short way\n",
        "sqr_numbers = [n*n for n in numbers]\n",
        "sqr_numbers"
      ],
      "metadata": {
        "colab": {
          "base_uri": "https://localhost:8080/"
        },
        "id": "2G97hRaj3636",
        "outputId": "bb790471-cade-4115-d8e9-de7c333d089b"
      },
      "execution_count": 17,
      "outputs": [
        {
          "output_type": "execute_result",
          "data": {
            "text/plain": [
              "[1, 4, 9, 16, 25]"
            ]
          },
          "metadata": {},
          "execution_count": 17
        }
      ]
    },
    {
      "cell_type": "code",
      "source": [
        "# another example\n",
        "price = [100,120,80,50]\n",
        "earning_per_share = [9,15,40,2]\n",
        "\n",
        "pe = [p/e for p,e in zip(price,earning_per_share)]\n",
        "pe"
      ],
      "metadata": {
        "colab": {
          "base_uri": "https://localhost:8080/"
        },
        "id": "vhxfQkBy4BFN",
        "outputId": "be07e369-1196-4e94-f2ab-b1e39e658ec5"
      },
      "execution_count": 18,
      "outputs": [
        {
          "output_type": "execute_result",
          "data": {
            "text/plain": [
              "[11.11111111111111, 8.0, 2.0, 25.0]"
            ]
          },
          "metadata": {},
          "execution_count": 18
        }
      ]
    },
    {
      "cell_type": "code",
      "source": [
        "# if a value of 'e' is 0, then it will show an error. Therefore if condition can be used.\n",
        "price = [100,120,80,50]\n",
        "earning_per_share = [0,15,40,2]\n",
        "\n",
        "pe = [p/e if e > 0 else 0 for p,e in zip(price,earning_per_share)]\n",
        "pe"
      ],
      "metadata": {
        "colab": {
          "base_uri": "https://localhost:8080/"
        },
        "id": "vUFpwFWq5CJP",
        "outputId": "3ebdfff2-6b62-41d9-fadd-0f58780a9c69"
      },
      "execution_count": 19,
      "outputs": [
        {
          "output_type": "execute_result",
          "data": {
            "text/plain": [
              "[0, 8.0, 2.0, 25.0]"
            ]
          },
          "metadata": {},
          "execution_count": 19
        }
      ]
    },
    {
      "cell_type": "code",
      "source": [
        "# getting length of each word in the array\n",
        "words = ['apple', 'banana', 'cherry', 'date']\n",
        "\n",
        "lengths = [len(word) for word in words]\n",
        "lengths"
      ],
      "metadata": {
        "colab": {
          "base_uri": "https://localhost:8080/"
        },
        "id": "Z_LOSMN35wdD",
        "outputId": "801548f0-05f4-4d36-86a6-e0ac91fabfd1"
      },
      "execution_count": 20,
      "outputs": [
        {
          "output_type": "execute_result",
          "data": {
            "text/plain": [
              "[5, 6, 6, 4]"
            ]
          },
          "metadata": {},
          "execution_count": 20
        }
      ]
    },
    {
      "cell_type": "code",
      "source": [
        "# if the price>100, then 10% discount\n",
        "price = [100,120,80,50]\n",
        "\n",
        "discounted_price = [p*0.9 if p>100 else p for p in price]\n",
        "discounted_price"
      ],
      "metadata": {
        "colab": {
          "base_uri": "https://localhost:8080/"
        },
        "id": "WECyNiwZ6Ryy",
        "outputId": "9b8f6402-6f35-4752-9972-462a5e82a42f"
      },
      "execution_count": 21,
      "outputs": [
        {
          "output_type": "execute_result",
          "data": {
            "text/plain": [
              "[100, 108.0, 80, 50]"
            ]
          },
          "metadata": {},
          "execution_count": 21
        }
      ]
    },
    {
      "cell_type": "markdown",
      "source": [
        "#### Dictionary comprehensions allow for the dynamic construction of dictionaries by running a for loop in a single-line."
      ],
      "metadata": {
        "id": "x2e1VXK2IHtg"
      }
    },
    {
      "cell_type": "code",
      "source": [
        "# creating a dictionary from list\n",
        "names = ['Alice', 'Bob', 'Charlie']\n",
        "ages = [25, 30, 35]\n",
        "\n",
        "name_age_dict = {names[i]:ages[i] for i in range(len(names))}\n",
        "name_age_dict"
      ],
      "metadata": {
        "colab": {
          "base_uri": "https://localhost:8080/"
        },
        "id": "V-7SOJZ3AE0d",
        "outputId": "722a8158-60da-44de-939f-32e21700590e"
      },
      "execution_count": 22,
      "outputs": [
        {
          "output_type": "execute_result",
          "data": {
            "text/plain": [
              "{'Alice': 25, 'Bob': 30, 'Charlie': 35}"
            ]
          },
          "metadata": {},
          "execution_count": 22
        }
      ]
    },
    {
      "cell_type": "code",
      "source": [],
      "metadata": {
        "id": "MQhOKjY-G0_n"
      },
      "execution_count": 22,
      "outputs": []
    }
  ]
}